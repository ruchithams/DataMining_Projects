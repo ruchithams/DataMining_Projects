{
 "cells": [
  {
   "cell_type": "markdown",
   "metadata": {},
   "source": [
    "# RFM - Recency, Frequency, Monetary Analysis"
   ]
  },
  {
   "cell_type": "markdown",
   "metadata": {},
   "source": [
    "In this Section we are going to use RFM analysis to understand customer behaviour. We can idntify the category under which a customer falls under by making use of the transaction data.\n",
    "By Recency, Frequency and Monetary Analysis helps us get insight on the cutomers and revenue:\n",
    "1. Discover market trends and Patterns\n",
    "2. Finding the customers at risk\n",
    "3. Identifying ways to retain customers\n",
    "4. Increase the revenue by identifying the target customers."
   ]
  },
  {
   "cell_type": "markdown",
   "metadata": {},
   "source": [
    "In this approach we using RFM analysis in combination with k-means clustering prediction algorithm "
   ]
  },
  {
   "cell_type": "code",
   "execution_count": 1,
   "metadata": {},
   "outputs": [],
   "source": [
    "# importing pandas for dataframe\n",
    "import pandas as pd\n",
    "# importing numpy for numeric computing\n",
    "import numpy as np\n",
    "# import time and warnings\n",
    "import time, warnings\n",
    "# import datetime\n",
    "import datetime as dt\n",
    "\n",
    "#modules for predictive models\n",
    "import sklearn.cluster as cluster\n",
    "# import kmeans\n",
    "from sklearn.cluster import KMeans\n",
    "# import PCA\n",
    "from sklearn.decomposition import PCA\n",
    "# importing Gaussian mixture model\n",
    "from sklearn.mixture import GMM\n",
    "\n",
    "from sklearn.metrics import silhouette_samples, silhouette_score\n",
    "\n",
    "#visualizations\n",
    "import matplotlib.pyplot as plt\n",
    "# import scatter matrix for visualization\n",
    "from pandas.plotting import scatter_matrix\n",
    "%matplotlib inline\n",
    "import seaborn as sns\n",
    "\n",
    "warnings.filterwarnings(\"ignore\")"
   ]
  },
  {
   "cell_type": "markdown",
   "metadata": {},
   "source": [
    "**Data preparation**"
   ]
  },
  {
   "cell_type": "code",
   "execution_count": 2,
   "metadata": {},
   "outputs": [
    {
     "data": {
      "text/html": [
       "<div>\n",
       "<style scoped>\n",
       "    .dataframe tbody tr th:only-of-type {\n",
       "        vertical-align: middle;\n",
       "    }\n",
       "\n",
       "    .dataframe tbody tr th {\n",
       "        vertical-align: top;\n",
       "    }\n",
       "\n",
       "    .dataframe thead th {\n",
       "        text-align: right;\n",
       "    }\n",
       "</style>\n",
       "<table border=\"1\" class=\"dataframe\">\n",
       "  <thead>\n",
       "    <tr style=\"text-align: right;\">\n",
       "      <th></th>\n",
       "      <th>InvoiceNo</th>\n",
       "      <th>StockCode</th>\n",
       "      <th>Description</th>\n",
       "      <th>Quantity</th>\n",
       "      <th>InvoiceDate</th>\n",
       "      <th>UnitPrice</th>\n",
       "      <th>CustomerID</th>\n",
       "      <th>Country</th>\n",
       "    </tr>\n",
       "  </thead>\n",
       "  <tbody>\n",
       "    <tr>\n",
       "      <th>0</th>\n",
       "      <td>536365</td>\n",
       "      <td>85123A</td>\n",
       "      <td>WHITE HANGING HEART T-LIGHT HOLDER</td>\n",
       "      <td>6</td>\n",
       "      <td>2010-12-01 08:26:00</td>\n",
       "      <td>2.55</td>\n",
       "      <td>17850.0</td>\n",
       "      <td>United Kingdom</td>\n",
       "    </tr>\n",
       "    <tr>\n",
       "      <th>1</th>\n",
       "      <td>536365</td>\n",
       "      <td>71053</td>\n",
       "      <td>WHITE METAL LANTERN</td>\n",
       "      <td>6</td>\n",
       "      <td>2010-12-01 08:26:00</td>\n",
       "      <td>3.39</td>\n",
       "      <td>17850.0</td>\n",
       "      <td>United Kingdom</td>\n",
       "    </tr>\n",
       "    <tr>\n",
       "      <th>2</th>\n",
       "      <td>536365</td>\n",
       "      <td>84406B</td>\n",
       "      <td>CREAM CUPID HEARTS COAT HANGER</td>\n",
       "      <td>8</td>\n",
       "      <td>2010-12-01 08:26:00</td>\n",
       "      <td>2.75</td>\n",
       "      <td>17850.0</td>\n",
       "      <td>United Kingdom</td>\n",
       "    </tr>\n",
       "    <tr>\n",
       "      <th>3</th>\n",
       "      <td>536365</td>\n",
       "      <td>84029G</td>\n",
       "      <td>KNITTED UNION FLAG HOT WATER BOTTLE</td>\n",
       "      <td>6</td>\n",
       "      <td>2010-12-01 08:26:00</td>\n",
       "      <td>3.39</td>\n",
       "      <td>17850.0</td>\n",
       "      <td>United Kingdom</td>\n",
       "    </tr>\n",
       "    <tr>\n",
       "      <th>4</th>\n",
       "      <td>536365</td>\n",
       "      <td>84029E</td>\n",
       "      <td>RED WOOLLY HOTTIE WHITE HEART.</td>\n",
       "      <td>6</td>\n",
       "      <td>2010-12-01 08:26:00</td>\n",
       "      <td>3.39</td>\n",
       "      <td>17850.0</td>\n",
       "      <td>United Kingdom</td>\n",
       "    </tr>\n",
       "  </tbody>\n",
       "</table>\n",
       "</div>"
      ],
      "text/plain": [
       "  InvoiceNo StockCode                          Description  Quantity  \\\n",
       "0    536365    85123A   WHITE HANGING HEART T-LIGHT HOLDER         6   \n",
       "1    536365     71053                  WHITE METAL LANTERN         6   \n",
       "2    536365    84406B       CREAM CUPID HEARTS COAT HANGER         8   \n",
       "3    536365    84029G  KNITTED UNION FLAG HOT WATER BOTTLE         6   \n",
       "4    536365    84029E       RED WOOLLY HOTTIE WHITE HEART.         6   \n",
       "\n",
       "          InvoiceDate  UnitPrice  CustomerID         Country  \n",
       "0 2010-12-01 08:26:00       2.55     17850.0  United Kingdom  \n",
       "1 2010-12-01 08:26:00       3.39     17850.0  United Kingdom  \n",
       "2 2010-12-01 08:26:00       2.75     17850.0  United Kingdom  \n",
       "3 2010-12-01 08:26:00       3.39     17850.0  United Kingdom  \n",
       "4 2010-12-01 08:26:00       3.39     17850.0  United Kingdom  "
      ]
     },
     "execution_count": 2,
     "metadata": {},
     "output_type": "execute_result"
    }
   ],
   "source": [
    "#load the dataset\n",
    "retail_df = pd.read_excel(\"Online Retail.xlsx\")\n",
    "retail_df.head()"
   ]
  },
  {
   "cell_type": "code",
   "execution_count": 3,
   "metadata": {},
   "outputs": [
    {
     "data": {
      "text/plain": [
       "(495478, 8)"
      ]
     },
     "execution_count": 3,
     "metadata": {},
     "output_type": "execute_result"
    }
   ],
   "source": [
    "# Fetching United Kingdom retail store transactions\n",
    "retail_uk = retail_df[retail_df['Country']=='United Kingdom']\n",
    "# check the shape\n",
    "retail_uk.shape"
   ]
  },
  {
   "cell_type": "code",
   "execution_count": 4,
   "metadata": {},
   "outputs": [
    {
     "data": {
      "text/plain": [
       "(486286, 8)"
      ]
     },
     "execution_count": 4,
     "metadata": {},
     "output_type": "execute_result"
    }
   ],
   "source": [
    "# removing canceled orders\n",
    "retail_uk = retail_uk[retail_uk['Quantity']>0]\n",
    "retail_uk.shape"
   ]
  },
  {
   "cell_type": "code",
   "execution_count": 5,
   "metadata": {},
   "outputs": [
    {
     "data": {
      "text/plain": [
       "(354345, 8)"
      ]
     },
     "execution_count": 5,
     "metadata": {},
     "output_type": "execute_result"
    }
   ],
   "source": [
    "# Droping all rows with not applicable Customer ID\n",
    "retail_uk.dropna(subset=['CustomerID'],how='all',inplace=True)\n",
    "retail_uk.shape"
   ]
  },
  {
   "cell_type": "code",
   "execution_count": 6,
   "metadata": {},
   "outputs": [
    {
     "data": {
      "text/plain": [
       "(342478, 8)"
      ]
     },
     "execution_count": 6,
     "metadata": {},
     "output_type": "execute_result"
    }
   ],
   "source": [
    "# Fetching one year dataset which makes it convinient to run RFM analysis\n",
    "retail_uk = retail_uk[retail_uk['InvoiceDate']>= \"2010-12-09\"]\n",
    "retail_uk.shape"
   ]
  },
  {
   "cell_type": "code",
   "execution_count": 7,
   "metadata": {},
   "outputs": [
    {
     "name": "stdout",
     "output_type": "stream",
     "text": [
      "Summary..\n",
      "Number of transactions:  16017\n",
      "Number of products bought:  3611\n",
      "Number of customers: 3863\n",
      "Percentage of customers NA:  0.0 %\n"
     ]
    }
   ],
   "source": [
    "print(\"Summary..\")\n",
    "# Computing the unique values of each attribute\n",
    "print(\"Number of transactions: \", retail_uk['InvoiceNo'].nunique())\n",
    "print(\"Number of products bought: \",retail_uk['StockCode'].nunique())\n",
    "print(\"Number of customers:\", retail_uk['CustomerID'].nunique() )\n",
    "print(\"Percentage of customers NA: \", round(retail_uk['CustomerID'].isnull().sum() * 100 / len(retail_df),2),\"%\" )"
   ]
  },
  {
   "cell_type": "markdown",
   "metadata": {},
   "source": [
    "RFM Analysis is a customer segmentation analysis. It involves calculating \n",
    "1. Recency: Days since last purchase \n",
    "2. Frequency: Total number of purchases\n",
    "3. Monetary: Total amount spent by the customer   \n",
    "    \n",
    "Studying this helps us identify the target cutsomers who respond to the promotional adds and the products that they might potentially buy "
   ]
  },
  {
   "cell_type": "markdown",
   "metadata": {},
   "source": [
    "**RECENCY** : total number of days since the customer made the last purchase. This is calculated w.r.t to the last day of the year that we have considered for RFM analysis."
   ]
  },
  {
   "cell_type": "code",
   "execution_count": 9,
   "metadata": {},
   "outputs": [
    {
     "data": {
      "text/plain": [
       "Timestamp('2011-12-09 12:49:00')"
      ]
     },
     "execution_count": 9,
     "metadata": {},
     "output_type": "execute_result"
    }
   ],
   "source": [
    "# last transaction date available in our dataset\n",
    "retail_uk['InvoiceDate'].max()"
   ]
  },
  {
   "cell_type": "code",
   "execution_count": 10,
   "metadata": {},
   "outputs": [
    {
     "name": "stdout",
     "output_type": "stream",
     "text": [
      "2011-12-09\n"
     ]
    }
   ],
   "source": [
    "last_date = dt.date(2011,12,9)\n",
    "print(last_date)"
   ]
  },
  {
   "cell_type": "code",
   "execution_count": 11,
   "metadata": {},
   "outputs": [],
   "source": [
    "# Creating a new feature with just invoice date for the ease of computation\n",
    "retail_uk['date'] = retail_uk['InvoiceDate'].dt.date"
   ]
  },
  {
   "cell_type": "code",
   "execution_count": 12,
   "metadata": {},
   "outputs": [
    {
     "data": {
      "text/html": [
       "<div>\n",
       "<style scoped>\n",
       "    .dataframe tbody tr th:only-of-type {\n",
       "        vertical-align: middle;\n",
       "    }\n",
       "\n",
       "    .dataframe tbody tr th {\n",
       "        vertical-align: top;\n",
       "    }\n",
       "\n",
       "    .dataframe thead th {\n",
       "        text-align: right;\n",
       "    }\n",
       "</style>\n",
       "<table border=\"1\" class=\"dataframe\">\n",
       "  <thead>\n",
       "    <tr style=\"text-align: right;\">\n",
       "      <th></th>\n",
       "      <th>InvoiceNo</th>\n",
       "      <th>StockCode</th>\n",
       "      <th>Description</th>\n",
       "      <th>Quantity</th>\n",
       "      <th>InvoiceDate</th>\n",
       "      <th>UnitPrice</th>\n",
       "      <th>CustomerID</th>\n",
       "      <th>Country</th>\n",
       "      <th>date</th>\n",
       "    </tr>\n",
       "  </thead>\n",
       "  <tbody>\n",
       "    <tr>\n",
       "      <th>19632</th>\n",
       "      <td>537879</td>\n",
       "      <td>22114</td>\n",
       "      <td>HOT WATER BOTTLE TEA AND SYMPATHY</td>\n",
       "      <td>12</td>\n",
       "      <td>2010-12-09 08:34:00</td>\n",
       "      <td>3.95</td>\n",
       "      <td>14243.0</td>\n",
       "      <td>United Kingdom</td>\n",
       "      <td>2010-12-09</td>\n",
       "    </tr>\n",
       "    <tr>\n",
       "      <th>19633</th>\n",
       "      <td>537879</td>\n",
       "      <td>22835</td>\n",
       "      <td>HOT WATER BOTTLE I AM SO POORLY</td>\n",
       "      <td>8</td>\n",
       "      <td>2010-12-09 08:34:00</td>\n",
       "      <td>4.65</td>\n",
       "      <td>14243.0</td>\n",
       "      <td>United Kingdom</td>\n",
       "      <td>2010-12-09</td>\n",
       "    </tr>\n",
       "    <tr>\n",
       "      <th>19634</th>\n",
       "      <td>537879</td>\n",
       "      <td>85150</td>\n",
       "      <td>LADIES &amp; GENTLEMEN METAL SIGN</td>\n",
       "      <td>6</td>\n",
       "      <td>2010-12-09 08:34:00</td>\n",
       "      <td>2.55</td>\n",
       "      <td>14243.0</td>\n",
       "      <td>United Kingdom</td>\n",
       "      <td>2010-12-09</td>\n",
       "    </tr>\n",
       "    <tr>\n",
       "      <th>19635</th>\n",
       "      <td>537879</td>\n",
       "      <td>85048</td>\n",
       "      <td>15CM CHRISTMAS GLASS BALL 20 LIGHTS</td>\n",
       "      <td>4</td>\n",
       "      <td>2010-12-09 08:34:00</td>\n",
       "      <td>7.95</td>\n",
       "      <td>14243.0</td>\n",
       "      <td>United Kingdom</td>\n",
       "      <td>2010-12-09</td>\n",
       "    </tr>\n",
       "    <tr>\n",
       "      <th>19636</th>\n",
       "      <td>537879</td>\n",
       "      <td>21524</td>\n",
       "      <td>DOORMAT SPOTTY HOME SWEET HOME</td>\n",
       "      <td>2</td>\n",
       "      <td>2010-12-09 08:34:00</td>\n",
       "      <td>7.95</td>\n",
       "      <td>14243.0</td>\n",
       "      <td>United Kingdom</td>\n",
       "      <td>2010-12-09</td>\n",
       "    </tr>\n",
       "  </tbody>\n",
       "</table>\n",
       "</div>"
      ],
      "text/plain": [
       "      InvoiceNo StockCode                          Description  Quantity  \\\n",
       "19632    537879     22114    HOT WATER BOTTLE TEA AND SYMPATHY        12   \n",
       "19633    537879     22835      HOT WATER BOTTLE I AM SO POORLY         8   \n",
       "19634    537879     85150        LADIES & GENTLEMEN METAL SIGN         6   \n",
       "19635    537879     85048  15CM CHRISTMAS GLASS BALL 20 LIGHTS         4   \n",
       "19636    537879     21524       DOORMAT SPOTTY HOME SWEET HOME         2   \n",
       "\n",
       "              InvoiceDate  UnitPrice  CustomerID         Country        date  \n",
       "19632 2010-12-09 08:34:00       3.95     14243.0  United Kingdom  2010-12-09  \n",
       "19633 2010-12-09 08:34:00       4.65     14243.0  United Kingdom  2010-12-09  \n",
       "19634 2010-12-09 08:34:00       2.55     14243.0  United Kingdom  2010-12-09  \n",
       "19635 2010-12-09 08:34:00       7.95     14243.0  United Kingdom  2010-12-09  \n",
       "19636 2010-12-09 08:34:00       7.95     14243.0  United Kingdom  2010-12-09  "
      ]
     },
     "execution_count": 12,
     "metadata": {},
     "output_type": "execute_result"
    }
   ],
   "source": [
    "# Displaying the first five rows\n",
    "retail_uk.head()"
   ]
  },
  {
   "cell_type": "code",
   "execution_count": 13,
   "metadata": {},
   "outputs": [
    {
     "data": {
      "text/html": [
       "<div>\n",
       "<style scoped>\n",
       "    .dataframe tbody tr th:only-of-type {\n",
       "        vertical-align: middle;\n",
       "    }\n",
       "\n",
       "    .dataframe tbody tr th {\n",
       "        vertical-align: top;\n",
       "    }\n",
       "\n",
       "    .dataframe thead th {\n",
       "        text-align: right;\n",
       "    }\n",
       "</style>\n",
       "<table border=\"1\" class=\"dataframe\">\n",
       "  <thead>\n",
       "    <tr style=\"text-align: right;\">\n",
       "      <th></th>\n",
       "      <th>CustomerID</th>\n",
       "      <th>LastPurshaceDate</th>\n",
       "    </tr>\n",
       "  </thead>\n",
       "  <tbody>\n",
       "    <tr>\n",
       "      <th>0</th>\n",
       "      <td>12346.0</td>\n",
       "      <td>2011-01-18</td>\n",
       "    </tr>\n",
       "    <tr>\n",
       "      <th>1</th>\n",
       "      <td>12747.0</td>\n",
       "      <td>2011-12-07</td>\n",
       "    </tr>\n",
       "    <tr>\n",
       "      <th>2</th>\n",
       "      <td>12748.0</td>\n",
       "      <td>2011-12-09</td>\n",
       "    </tr>\n",
       "    <tr>\n",
       "      <th>3</th>\n",
       "      <td>12749.0</td>\n",
       "      <td>2011-12-06</td>\n",
       "    </tr>\n",
       "    <tr>\n",
       "      <th>4</th>\n",
       "      <td>12820.0</td>\n",
       "      <td>2011-12-06</td>\n",
       "    </tr>\n",
       "  </tbody>\n",
       "</table>\n",
       "</div>"
      ],
      "text/plain": [
       "   CustomerID LastPurshaceDate\n",
       "0     12346.0       2011-01-18\n",
       "1     12747.0       2011-12-07\n",
       "2     12748.0       2011-12-09\n",
       "3     12749.0       2011-12-06\n",
       "4     12820.0       2011-12-06"
      ]
     },
     "execution_count": 13,
     "metadata": {},
     "output_type": "execute_result"
    }
   ],
   "source": [
    "# group by customers and check last date of purshace\n",
    "recency_df = retail_uk.groupby(by='CustomerID', as_index=False)['date'].max()\n",
    "# Fetching last purchase date of each cutsomer\n",
    "recency_df.columns = ['CustomerID','LastPurshaceDate']\n",
    "recency_df.head()"
   ]
  },
  {
   "cell_type": "code",
   "execution_count": 14,
   "metadata": {},
   "outputs": [],
   "source": [
    "# calculate recency\n",
    "recency_df['Recency'] = recency_df['LastPurshaceDate'].apply(lambda x: (last_date - x).days)"
   ]
  },
  {
   "cell_type": "code",
   "execution_count": 15,
   "metadata": {},
   "outputs": [
    {
     "data": {
      "text/html": [
       "<div>\n",
       "<style scoped>\n",
       "    .dataframe tbody tr th:only-of-type {\n",
       "        vertical-align: middle;\n",
       "    }\n",
       "\n",
       "    .dataframe tbody tr th {\n",
       "        vertical-align: top;\n",
       "    }\n",
       "\n",
       "    .dataframe thead th {\n",
       "        text-align: right;\n",
       "    }\n",
       "</style>\n",
       "<table border=\"1\" class=\"dataframe\">\n",
       "  <thead>\n",
       "    <tr style=\"text-align: right;\">\n",
       "      <th></th>\n",
       "      <th>CustomerID</th>\n",
       "      <th>LastPurshaceDate</th>\n",
       "      <th>Recency</th>\n",
       "    </tr>\n",
       "  </thead>\n",
       "  <tbody>\n",
       "    <tr>\n",
       "      <th>0</th>\n",
       "      <td>12346.0</td>\n",
       "      <td>2011-01-18</td>\n",
       "      <td>325</td>\n",
       "    </tr>\n",
       "    <tr>\n",
       "      <th>1</th>\n",
       "      <td>12747.0</td>\n",
       "      <td>2011-12-07</td>\n",
       "      <td>2</td>\n",
       "    </tr>\n",
       "    <tr>\n",
       "      <th>2</th>\n",
       "      <td>12748.0</td>\n",
       "      <td>2011-12-09</td>\n",
       "      <td>0</td>\n",
       "    </tr>\n",
       "    <tr>\n",
       "      <th>3</th>\n",
       "      <td>12749.0</td>\n",
       "      <td>2011-12-06</td>\n",
       "      <td>3</td>\n",
       "    </tr>\n",
       "    <tr>\n",
       "      <th>4</th>\n",
       "      <td>12820.0</td>\n",
       "      <td>2011-12-06</td>\n",
       "      <td>3</td>\n",
       "    </tr>\n",
       "  </tbody>\n",
       "</table>\n",
       "</div>"
      ],
      "text/plain": [
       "   CustomerID LastPurshaceDate  Recency\n",
       "0     12346.0       2011-01-18      325\n",
       "1     12747.0       2011-12-07        2\n",
       "2     12748.0       2011-12-09        0\n",
       "3     12749.0       2011-12-06        3\n",
       "4     12820.0       2011-12-06        3"
      ]
     },
     "execution_count": 15,
     "metadata": {},
     "output_type": "execute_result"
    }
   ],
   "source": [
    "recency_df.head()"
   ]
  },
  {
   "cell_type": "code",
   "execution_count": 16,
   "metadata": {},
   "outputs": [],
   "source": [
    "# remove LastPurchaseDate column as it's unneccesary\n",
    "recency_df.drop('LastPurshaceDate',axis=1,inplace=True)"
   ]
  },
  {
   "cell_type": "markdown",
   "metadata": {},
   "source": [
    "** Frequency: ** The number of purchases made by the customer. we look into the number of invoices in the trasaction dataset."
   ]
  },
  {
   "cell_type": "code",
   "execution_count": 17,
   "metadata": {},
   "outputs": [
    {
     "data": {
      "text/html": [
       "<div>\n",
       "<style scoped>\n",
       "    .dataframe tbody tr th:only-of-type {\n",
       "        vertical-align: middle;\n",
       "    }\n",
       "\n",
       "    .dataframe tbody tr th {\n",
       "        vertical-align: top;\n",
       "    }\n",
       "\n",
       "    .dataframe thead th {\n",
       "        text-align: right;\n",
       "    }\n",
       "</style>\n",
       "<table border=\"1\" class=\"dataframe\">\n",
       "  <thead>\n",
       "    <tr style=\"text-align: right;\">\n",
       "      <th></th>\n",
       "      <th>CustomerID</th>\n",
       "      <th>Frequency</th>\n",
       "    </tr>\n",
       "  </thead>\n",
       "  <tbody>\n",
       "    <tr>\n",
       "      <th>0</th>\n",
       "      <td>12346.0</td>\n",
       "      <td>1</td>\n",
       "    </tr>\n",
       "    <tr>\n",
       "      <th>1</th>\n",
       "      <td>12747.0</td>\n",
       "      <td>10</td>\n",
       "    </tr>\n",
       "    <tr>\n",
       "      <th>2</th>\n",
       "      <td>12748.0</td>\n",
       "      <td>196</td>\n",
       "    </tr>\n",
       "    <tr>\n",
       "      <th>3</th>\n",
       "      <td>12749.0</td>\n",
       "      <td>5</td>\n",
       "    </tr>\n",
       "    <tr>\n",
       "      <th>4</th>\n",
       "      <td>12820.0</td>\n",
       "      <td>4</td>\n",
       "    </tr>\n",
       "  </tbody>\n",
       "</table>\n",
       "</div>"
      ],
      "text/plain": [
       "   CustomerID  Frequency\n",
       "0     12346.0          1\n",
       "1     12747.0         10\n",
       "2     12748.0        196\n",
       "3     12749.0          5\n",
       "4     12820.0          4"
      ]
     },
     "execution_count": 17,
     "metadata": {},
     "output_type": "execute_result"
    }
   ],
   "source": [
    "#  Removing all duplicates in the dataset to get one record per each transaction of the customer.\n",
    "retail_uk_copy = retail_uk\n",
    "retail_uk_copy.drop_duplicates(subset=['InvoiceNo', 'CustomerID'], keep=\"first\", inplace=True)\n",
    "#calculate frequency of purchases\n",
    "frequency_df = retail_uk_copy.groupby(by=['CustomerID'], as_index=False)['InvoiceNo'].count()\n",
    "frequency_df.columns = ['CustomerID','Frequency']\n",
    "frequency_df.head()"
   ]
  },
  {
   "cell_type": "markdown",
   "metadata": {},
   "source": [
    "**Monetary: ** The amount of money spent by the cutomer by the year under consideration."
   ]
  },
  {
   "cell_type": "code",
   "execution_count": 18,
   "metadata": {},
   "outputs": [],
   "source": [
    "# Total cost of each product purchased bu customer\n",
    "retail_uk['TotalCost'] = retail_uk['Quantity'] * retail_uk['UnitPrice']"
   ]
  },
  {
   "cell_type": "code",
   "execution_count": 19,
   "metadata": {},
   "outputs": [
    {
     "data": {
      "text/html": [
       "<div>\n",
       "<style scoped>\n",
       "    .dataframe tbody tr th:only-of-type {\n",
       "        vertical-align: middle;\n",
       "    }\n",
       "\n",
       "    .dataframe tbody tr th {\n",
       "        vertical-align: top;\n",
       "    }\n",
       "\n",
       "    .dataframe thead th {\n",
       "        text-align: right;\n",
       "    }\n",
       "</style>\n",
       "<table border=\"1\" class=\"dataframe\">\n",
       "  <thead>\n",
       "    <tr style=\"text-align: right;\">\n",
       "      <th></th>\n",
       "      <th>CustomerID</th>\n",
       "      <th>Monetary</th>\n",
       "    </tr>\n",
       "  </thead>\n",
       "  <tbody>\n",
       "    <tr>\n",
       "      <th>0</th>\n",
       "      <td>12346.0</td>\n",
       "      <td>77183.60</td>\n",
       "    </tr>\n",
       "    <tr>\n",
       "      <th>1</th>\n",
       "      <td>12747.0</td>\n",
       "      <td>658.89</td>\n",
       "    </tr>\n",
       "    <tr>\n",
       "      <th>2</th>\n",
       "      <td>12748.0</td>\n",
       "      <td>3739.23</td>\n",
       "    </tr>\n",
       "    <tr>\n",
       "      <th>3</th>\n",
       "      <td>12749.0</td>\n",
       "      <td>98.35</td>\n",
       "    </tr>\n",
       "    <tr>\n",
       "      <th>4</th>\n",
       "      <td>12820.0</td>\n",
       "      <td>58.20</td>\n",
       "    </tr>\n",
       "  </tbody>\n",
       "</table>\n",
       "</div>"
      ],
      "text/plain": [
       "   CustomerID  Monetary\n",
       "0     12346.0  77183.60\n",
       "1     12747.0    658.89\n",
       "2     12748.0   3739.23\n",
       "3     12749.0     98.35\n",
       "4     12820.0     58.20"
      ]
     },
     "execution_count": 19,
     "metadata": {},
     "output_type": "execute_result"
    }
   ],
   "source": [
    "# Fetching monetary\n",
    "monetary_df = retail_uk.groupby(by='CustomerID',as_index=False).agg({'TotalCost': 'sum'})\n",
    "monetary_df.columns = ['CustomerID','Monetary']\n",
    "monetary_df.head()"
   ]
  },
  {
   "cell_type": "code",
   "execution_count": 23,
   "metadata": {},
   "outputs": [
    {
     "data": {
      "text/html": [
       "<div>\n",
       "<style scoped>\n",
       "    .dataframe tbody tr th:only-of-type {\n",
       "        vertical-align: middle;\n",
       "    }\n",
       "\n",
       "    .dataframe tbody tr th {\n",
       "        vertical-align: top;\n",
       "    }\n",
       "\n",
       "    .dataframe thead th {\n",
       "        text-align: right;\n",
       "    }\n",
       "</style>\n",
       "<table border=\"1\" class=\"dataframe\">\n",
       "  <thead>\n",
       "    <tr style=\"text-align: right;\">\n",
       "      <th></th>\n",
       "      <th>CustomerID</th>\n",
       "      <th>Recency</th>\n",
       "      <th>Frequency</th>\n",
       "    </tr>\n",
       "  </thead>\n",
       "  <tbody>\n",
       "    <tr>\n",
       "      <th>0</th>\n",
       "      <td>12346.0</td>\n",
       "      <td>325</td>\n",
       "      <td>1</td>\n",
       "    </tr>\n",
       "    <tr>\n",
       "      <th>1</th>\n",
       "      <td>12747.0</td>\n",
       "      <td>2</td>\n",
       "      <td>10</td>\n",
       "    </tr>\n",
       "    <tr>\n",
       "      <th>2</th>\n",
       "      <td>12748.0</td>\n",
       "      <td>0</td>\n",
       "      <td>196</td>\n",
       "    </tr>\n",
       "    <tr>\n",
       "      <th>3</th>\n",
       "      <td>12749.0</td>\n",
       "      <td>3</td>\n",
       "      <td>5</td>\n",
       "    </tr>\n",
       "    <tr>\n",
       "      <th>4</th>\n",
       "      <td>12820.0</td>\n",
       "      <td>3</td>\n",
       "      <td>4</td>\n",
       "    </tr>\n",
       "  </tbody>\n",
       "</table>\n",
       "</div>"
      ],
      "text/plain": [
       "   CustomerID  Recency  Frequency\n",
       "0     12346.0      325          1\n",
       "1     12747.0        2         10\n",
       "2     12748.0        0        196\n",
       "3     12749.0        3          5\n",
       "4     12820.0        3          4"
      ]
     },
     "execution_count": 23,
     "metadata": {},
     "output_type": "execute_result"
    }
   ],
   "source": [
    "# Merging recency dataframe with frequency dataframe\n",
    "rf_df = recency_df.merge(frequency_df,on='CustomerID')\n",
    "rf_df.head()"
   ]
  },
  {
   "cell_type": "markdown",
   "metadata": {},
   "source": [
    "**RFM TABLE** : RFM table consists of the recency, frequency and Monetary values that were computed in the previous steps."
   ]
  },
  {
   "cell_type": "code",
   "execution_count": 24,
   "metadata": {},
   "outputs": [
    {
     "data": {
      "text/html": [
       "<div>\n",
       "<style scoped>\n",
       "    .dataframe tbody tr th:only-of-type {\n",
       "        vertical-align: middle;\n",
       "    }\n",
       "\n",
       "    .dataframe tbody tr th {\n",
       "        vertical-align: top;\n",
       "    }\n",
       "\n",
       "    .dataframe thead th {\n",
       "        text-align: right;\n",
       "    }\n",
       "</style>\n",
       "<table border=\"1\" class=\"dataframe\">\n",
       "  <thead>\n",
       "    <tr style=\"text-align: right;\">\n",
       "      <th></th>\n",
       "      <th>Recency</th>\n",
       "      <th>Frequency</th>\n",
       "      <th>Monetary</th>\n",
       "    </tr>\n",
       "    <tr>\n",
       "      <th>CustomerID</th>\n",
       "      <th></th>\n",
       "      <th></th>\n",
       "      <th></th>\n",
       "    </tr>\n",
       "  </thead>\n",
       "  <tbody>\n",
       "    <tr>\n",
       "      <th>12346.0</th>\n",
       "      <td>325</td>\n",
       "      <td>1</td>\n",
       "      <td>77183.60</td>\n",
       "    </tr>\n",
       "    <tr>\n",
       "      <th>12747.0</th>\n",
       "      <td>2</td>\n",
       "      <td>10</td>\n",
       "      <td>658.89</td>\n",
       "    </tr>\n",
       "    <tr>\n",
       "      <th>12748.0</th>\n",
       "      <td>0</td>\n",
       "      <td>196</td>\n",
       "      <td>3739.23</td>\n",
       "    </tr>\n",
       "    <tr>\n",
       "      <th>12749.0</th>\n",
       "      <td>3</td>\n",
       "      <td>5</td>\n",
       "      <td>98.35</td>\n",
       "    </tr>\n",
       "    <tr>\n",
       "      <th>12820.0</th>\n",
       "      <td>3</td>\n",
       "      <td>4</td>\n",
       "      <td>58.20</td>\n",
       "    </tr>\n",
       "  </tbody>\n",
       "</table>\n",
       "</div>"
      ],
      "text/plain": [
       "            Recency  Frequency  Monetary\n",
       "CustomerID                              \n",
       "12346.0         325          1  77183.60\n",
       "12747.0           2         10    658.89\n",
       "12748.0           0        196   3739.23\n",
       "12749.0           3          5     98.35\n",
       "12820.0           3          4     58.20"
      ]
     },
     "execution_count": 24,
     "metadata": {},
     "output_type": "execute_result"
    }
   ],
   "source": [
    "# merging with monetary dataframe to get R, F and M in Features  \n",
    "rfm_df = rf_df.merge(monetary_df,on='CustomerID')\n",
    "# setting CustomerID as index\n",
    "rfm_df.set_index('CustomerID',inplace=True)\n",
    "# Diaplying the head\n",
    "rfm_df.head()"
   ]
  },
  {
   "cell_type": "markdown",
   "metadata": {},
   "source": [
    "**RFM TABLE VERIFICATION**: This verification shows that the values generated for receny, frequency and monetary are valid."
   ]
  },
  {
   "cell_type": "code",
   "execution_count": 30,
   "metadata": {},
   "outputs": [
    {
     "data": {
      "text/html": [
       "<div>\n",
       "<style scoped>\n",
       "    .dataframe tbody tr th:only-of-type {\n",
       "        vertical-align: middle;\n",
       "    }\n",
       "\n",
       "    .dataframe tbody tr th {\n",
       "        vertical-align: top;\n",
       "    }\n",
       "\n",
       "    .dataframe thead th {\n",
       "        text-align: right;\n",
       "    }\n",
       "</style>\n",
       "<table border=\"1\" class=\"dataframe\">\n",
       "  <thead>\n",
       "    <tr style=\"text-align: right;\">\n",
       "      <th></th>\n",
       "      <th>InvoiceNo</th>\n",
       "      <th>StockCode</th>\n",
       "      <th>Description</th>\n",
       "      <th>Quantity</th>\n",
       "      <th>InvoiceDate</th>\n",
       "      <th>UnitPrice</th>\n",
       "      <th>CustomerID</th>\n",
       "      <th>Country</th>\n",
       "      <th>date</th>\n",
       "      <th>TotalCost</th>\n",
       "    </tr>\n",
       "  </thead>\n",
       "  <tbody>\n",
       "    <tr>\n",
       "      <th>184487</th>\n",
       "      <td>552694</td>\n",
       "      <td>22768</td>\n",
       "      <td>FAMILY PHOTO FRAME CORNICE</td>\n",
       "      <td>2</td>\n",
       "      <td>2011-05-10 15:25:00</td>\n",
       "      <td>9.95</td>\n",
       "      <td>12749.0</td>\n",
       "      <td>United Kingdom</td>\n",
       "      <td>2011-05-10</td>\n",
       "      <td>19.90</td>\n",
       "    </tr>\n",
       "    <tr>\n",
       "      <th>285802</th>\n",
       "      <td>561926</td>\n",
       "      <td>22969</td>\n",
       "      <td>HOMEMADE JAM SCENTED CANDLES</td>\n",
       "      <td>12</td>\n",
       "      <td>2011-08-01 12:48:00</td>\n",
       "      <td>1.45</td>\n",
       "      <td>12749.0</td>\n",
       "      <td>United Kingdom</td>\n",
       "      <td>2011-08-01</td>\n",
       "      <td>17.40</td>\n",
       "    </tr>\n",
       "    <tr>\n",
       "      <th>285887</th>\n",
       "      <td>561928</td>\n",
       "      <td>23245</td>\n",
       "      <td>SET OF 3 REGENCY CAKE TINS</td>\n",
       "      <td>6</td>\n",
       "      <td>2011-08-01 12:50:00</td>\n",
       "      <td>4.95</td>\n",
       "      <td>12749.0</td>\n",
       "      <td>United Kingdom</td>\n",
       "      <td>2011-08-01</td>\n",
       "      <td>29.70</td>\n",
       "    </tr>\n",
       "    <tr>\n",
       "      <th>476296</th>\n",
       "      <td>577009</td>\n",
       "      <td>22720</td>\n",
       "      <td>SET OF 3 CAKE TINS PANTRY DESIGN</td>\n",
       "      <td>3</td>\n",
       "      <td>2011-11-17 12:05:00</td>\n",
       "      <td>4.95</td>\n",
       "      <td>12749.0</td>\n",
       "      <td>United Kingdom</td>\n",
       "      <td>2011-11-17</td>\n",
       "      <td>14.85</td>\n",
       "    </tr>\n",
       "    <tr>\n",
       "      <th>529701</th>\n",
       "      <td>580750</td>\n",
       "      <td>23583</td>\n",
       "      <td>LUNCH BAG PAISLEY PARK</td>\n",
       "      <td>10</td>\n",
       "      <td>2011-12-06 09:56:00</td>\n",
       "      <td>1.65</td>\n",
       "      <td>12749.0</td>\n",
       "      <td>United Kingdom</td>\n",
       "      <td>2011-12-06</td>\n",
       "      <td>16.50</td>\n",
       "    </tr>\n",
       "  </tbody>\n",
       "</table>\n",
       "</div>"
      ],
      "text/plain": [
       "       InvoiceNo StockCode                        Description  Quantity  \\\n",
       "184487    552694     22768         FAMILY PHOTO FRAME CORNICE         2   \n",
       "285802    561926     22969       HOMEMADE JAM SCENTED CANDLES        12   \n",
       "285887    561928     23245         SET OF 3 REGENCY CAKE TINS         6   \n",
       "476296    577009     22720  SET OF 3 CAKE TINS PANTRY DESIGN          3   \n",
       "529701    580750     23583           LUNCH BAG PAISLEY PARK          10   \n",
       "\n",
       "               InvoiceDate  UnitPrice  CustomerID         Country        date  \\\n",
       "184487 2011-05-10 15:25:00       9.95     12749.0  United Kingdom  2011-05-10   \n",
       "285802 2011-08-01 12:48:00       1.45     12749.0  United Kingdom  2011-08-01   \n",
       "285887 2011-08-01 12:50:00       4.95     12749.0  United Kingdom  2011-08-01   \n",
       "476296 2011-11-17 12:05:00       4.95     12749.0  United Kingdom  2011-11-17   \n",
       "529701 2011-12-06 09:56:00       1.65     12749.0  United Kingdom  2011-12-06   \n",
       "\n",
       "        TotalCost  \n",
       "184487      19.90  \n",
       "285802      17.40  \n",
       "285887      29.70  \n",
       "476296      14.85  \n",
       "529701      16.50  "
      ]
     },
     "execution_count": 30,
     "metadata": {},
     "output_type": "execute_result"
    }
   ],
   "source": [
    "retail_uk[retail_uk['CustomerID']==12749.0]"
   ]
  },
  {
   "cell_type": "code",
   "execution_count": 33,
   "metadata": {},
   "outputs": [
    {
     "data": {
      "text/plain": [
       "True"
      ]
     },
     "execution_count": 33,
     "metadata": {},
     "output_type": "execute_result"
    }
   ],
   "source": [
    "(last_date - dt.date(2011,12,6)).days == 3"
   ]
  },
  {
   "cell_type": "markdown",
   "metadata": {},
   "source": [
    "# Customer segments with RFM Model(Applying 80-20 rule)"
   ]
  },
  {
   "cell_type": "markdown",
   "metadata": {},
   "source": [
    "Applying Pareto Principle – This is commonly referred to as the 80-20 rule on our dataset by applying it to our RFM features.\n",
    "Pareto’s rule says 80% of the results come from 20% of the causes.Similarly, 20% customers contribute to 80% of your total revenue."
   ]
  },
  {
   "cell_type": "code",
   "execution_count": 34,
   "metadata": {},
   "outputs": [
    {
     "name": "stdout",
     "output_type": "stream",
     "text": [
      "The 80% of total revenue is:  890679.54\n"
     ]
    }
   ],
   "source": [
    "# Applying 80-20 rule\n",
    "# Calculating the 80 percent of the revenue\n",
    "pareto_threshold = rfm_df['Monetary'].sum() * 0.8\n",
    "print(\"The 80% of total revenue is: \",round(pareto_threshold,2))"
   ]
  },
  {
   "cell_type": "code",
   "execution_count": 35,
   "metadata": {},
   "outputs": [
    {
     "data": {
      "text/html": [
       "<div>\n",
       "<style scoped>\n",
       "    .dataframe tbody tr th:only-of-type {\n",
       "        vertical-align: middle;\n",
       "    }\n",
       "\n",
       "    .dataframe tbody tr th {\n",
       "        vertical-align: top;\n",
       "    }\n",
       "\n",
       "    .dataframe thead th {\n",
       "        text-align: right;\n",
       "    }\n",
       "</style>\n",
       "<table border=\"1\" class=\"dataframe\">\n",
       "  <thead>\n",
       "    <tr style=\"text-align: right;\">\n",
       "      <th></th>\n",
       "      <th>Recency</th>\n",
       "      <th>Frequency</th>\n",
       "      <th>Monetary</th>\n",
       "      <th>Rank</th>\n",
       "    </tr>\n",
       "    <tr>\n",
       "      <th>CustomerID</th>\n",
       "      <th></th>\n",
       "      <th></th>\n",
       "      <th></th>\n",
       "      <th></th>\n",
       "    </tr>\n",
       "  </thead>\n",
       "  <tbody>\n",
       "    <tr>\n",
       "      <th>12346.0</th>\n",
       "      <td>325</td>\n",
       "      <td>1</td>\n",
       "      <td>77183.60</td>\n",
       "      <td>2.0</td>\n",
       "    </tr>\n",
       "    <tr>\n",
       "      <th>12747.0</th>\n",
       "      <td>2</td>\n",
       "      <td>10</td>\n",
       "      <td>658.89</td>\n",
       "      <td>183.0</td>\n",
       "    </tr>\n",
       "    <tr>\n",
       "      <th>12748.0</th>\n",
       "      <td>0</td>\n",
       "      <td>196</td>\n",
       "      <td>3739.23</td>\n",
       "      <td>34.0</td>\n",
       "    </tr>\n",
       "    <tr>\n",
       "      <th>12749.0</th>\n",
       "      <td>3</td>\n",
       "      <td>5</td>\n",
       "      <td>98.35</td>\n",
       "      <td>1140.0</td>\n",
       "    </tr>\n",
       "    <tr>\n",
       "      <th>12820.0</th>\n",
       "      <td>3</td>\n",
       "      <td>4</td>\n",
       "      <td>58.20</td>\n",
       "      <td>1665.5</td>\n",
       "    </tr>\n",
       "  </tbody>\n",
       "</table>\n",
       "</div>"
      ],
      "text/plain": [
       "            Recency  Frequency  Monetary    Rank\n",
       "CustomerID                                      \n",
       "12346.0         325          1  77183.60     2.0\n",
       "12747.0           2         10    658.89   183.0\n",
       "12748.0           0        196   3739.23    34.0\n",
       "12749.0           3          5     98.35  1140.0\n",
       "12820.0           3          4     58.20  1665.5"
      ]
     },
     "execution_count": 35,
     "metadata": {},
     "output_type": "execute_result"
    }
   ],
   "source": [
    "customers_rank = rfm_df\n",
    "# Feature rank generated in ascending order of their monetary contribution to the revenue \n",
    "customers_rank['Rank'] = customers_rank['Monetary'].rank(ascending=0)\n",
    "customers_rank.head()"
   ]
  },
  {
   "cell_type": "code",
   "execution_count": 36,
   "metadata": {},
   "outputs": [
    {
     "data": {
      "text/html": [
       "<div>\n",
       "<style scoped>\n",
       "    .dataframe tbody tr th:only-of-type {\n",
       "        vertical-align: middle;\n",
       "    }\n",
       "\n",
       "    .dataframe tbody tr th {\n",
       "        vertical-align: top;\n",
       "    }\n",
       "\n",
       "    .dataframe thead th {\n",
       "        text-align: right;\n",
       "    }\n",
       "</style>\n",
       "<table border=\"1\" class=\"dataframe\">\n",
       "  <thead>\n",
       "    <tr style=\"text-align: right;\">\n",
       "      <th></th>\n",
       "      <th>Recency</th>\n",
       "      <th>Frequency</th>\n",
       "      <th>Monetary</th>\n",
       "      <th>Rank</th>\n",
       "    </tr>\n",
       "    <tr>\n",
       "      <th>CustomerID</th>\n",
       "      <th></th>\n",
       "      <th></th>\n",
       "      <th></th>\n",
       "      <th></th>\n",
       "    </tr>\n",
       "  </thead>\n",
       "  <tbody>\n",
       "    <tr>\n",
       "      <th>16446.0</th>\n",
       "      <td>0</td>\n",
       "      <td>2</td>\n",
       "      <td>168471.25</td>\n",
       "      <td>1.0</td>\n",
       "    </tr>\n",
       "    <tr>\n",
       "      <th>12346.0</th>\n",
       "      <td>325</td>\n",
       "      <td>1</td>\n",
       "      <td>77183.60</td>\n",
       "      <td>2.0</td>\n",
       "    </tr>\n",
       "    <tr>\n",
       "      <th>15098.0</th>\n",
       "      <td>182</td>\n",
       "      <td>3</td>\n",
       "      <td>39916.50</td>\n",
       "      <td>3.0</td>\n",
       "    </tr>\n",
       "    <tr>\n",
       "      <th>18102.0</th>\n",
       "      <td>0</td>\n",
       "      <td>57</td>\n",
       "      <td>39646.45</td>\n",
       "      <td>4.0</td>\n",
       "    </tr>\n",
       "    <tr>\n",
       "      <th>17949.0</th>\n",
       "      <td>1</td>\n",
       "      <td>44</td>\n",
       "      <td>28685.69</td>\n",
       "      <td>5.0</td>\n",
       "    </tr>\n",
       "    <tr>\n",
       "      <th>17450.0</th>\n",
       "      <td>8</td>\n",
       "      <td>44</td>\n",
       "      <td>25953.51</td>\n",
       "      <td>6.0</td>\n",
       "    </tr>\n",
       "    <tr>\n",
       "      <th>16029.0</th>\n",
       "      <td>38</td>\n",
       "      <td>60</td>\n",
       "      <td>23413.88</td>\n",
       "      <td>7.0</td>\n",
       "    </tr>\n",
       "    <tr>\n",
       "      <th>16013.0</th>\n",
       "      <td>3</td>\n",
       "      <td>45</td>\n",
       "      <td>17163.28</td>\n",
       "      <td>8.0</td>\n",
       "    </tr>\n",
       "    <tr>\n",
       "      <th>16333.0</th>\n",
       "      <td>7</td>\n",
       "      <td>22</td>\n",
       "      <td>14418.96</td>\n",
       "      <td>9.0</td>\n",
       "    </tr>\n",
       "    <tr>\n",
       "      <th>15749.0</th>\n",
       "      <td>235</td>\n",
       "      <td>3</td>\n",
       "      <td>12868.50</td>\n",
       "      <td>10.0</td>\n",
       "    </tr>\n",
       "    <tr>\n",
       "      <th>15769.0</th>\n",
       "      <td>7</td>\n",
       "      <td>25</td>\n",
       "      <td>11660.84</td>\n",
       "      <td>11.0</td>\n",
       "    </tr>\n",
       "    <tr>\n",
       "      <th>12901.0</th>\n",
       "      <td>8</td>\n",
       "      <td>28</td>\n",
       "      <td>9230.45</td>\n",
       "      <td>12.0</td>\n",
       "    </tr>\n",
       "    <tr>\n",
       "      <th>13798.0</th>\n",
       "      <td>1</td>\n",
       "      <td>56</td>\n",
       "      <td>7786.26</td>\n",
       "      <td>13.0</td>\n",
       "    </tr>\n",
       "    <tr>\n",
       "      <th>16684.0</th>\n",
       "      <td>4</td>\n",
       "      <td>28</td>\n",
       "      <td>7700.08</td>\n",
       "      <td>14.0</td>\n",
       "    </tr>\n",
       "    <tr>\n",
       "      <th>17857.0</th>\n",
       "      <td>4</td>\n",
       "      <td>23</td>\n",
       "      <td>7655.18</td>\n",
       "      <td>15.0</td>\n",
       "    </tr>\n",
       "    <tr>\n",
       "      <th>13694.0</th>\n",
       "      <td>3</td>\n",
       "      <td>49</td>\n",
       "      <td>7307.06</td>\n",
       "      <td>16.0</td>\n",
       "    </tr>\n",
       "    <tr>\n",
       "      <th>14607.0</th>\n",
       "      <td>15</td>\n",
       "      <td>14</td>\n",
       "      <td>5754.18</td>\n",
       "      <td>17.0</td>\n",
       "    </tr>\n",
       "    <tr>\n",
       "      <th>15061.0</th>\n",
       "      <td>3</td>\n",
       "      <td>41</td>\n",
       "      <td>5475.00</td>\n",
       "      <td>18.0</td>\n",
       "    </tr>\n",
       "    <tr>\n",
       "      <th>16000.0</th>\n",
       "      <td>2</td>\n",
       "      <td>3</td>\n",
       "      <td>5238.90</td>\n",
       "      <td>19.0</td>\n",
       "    </tr>\n",
       "    <tr>\n",
       "      <th>17389.0</th>\n",
       "      <td>0</td>\n",
       "      <td>34</td>\n",
       "      <td>4981.64</td>\n",
       "      <td>20.0</td>\n",
       "    </tr>\n",
       "    <tr>\n",
       "      <th>13089.0</th>\n",
       "      <td>2</td>\n",
       "      <td>94</td>\n",
       "      <td>4823.41</td>\n",
       "      <td>21.0</td>\n",
       "    </tr>\n",
       "    <tr>\n",
       "      <th>16422.0</th>\n",
       "      <td>17</td>\n",
       "      <td>50</td>\n",
       "      <td>4764.42</td>\n",
       "      <td>22.0</td>\n",
       "    </tr>\n",
       "    <tr>\n",
       "      <th>15311.0</th>\n",
       "      <td>0</td>\n",
       "      <td>88</td>\n",
       "      <td>4609.23</td>\n",
       "      <td>23.0</td>\n",
       "    </tr>\n",
       "    <tr>\n",
       "      <th>16532.0</th>\n",
       "      <td>17</td>\n",
       "      <td>3</td>\n",
       "      <td>4516.80</td>\n",
       "      <td>24.0</td>\n",
       "    </tr>\n",
       "    <tr>\n",
       "      <th>13408.0</th>\n",
       "      <td>1</td>\n",
       "      <td>60</td>\n",
       "      <td>4468.22</td>\n",
       "      <td>25.0</td>\n",
       "    </tr>\n",
       "    <tr>\n",
       "      <th>12931.0</th>\n",
       "      <td>21</td>\n",
       "      <td>15</td>\n",
       "      <td>4188.98</td>\n",
       "      <td>26.0</td>\n",
       "    </tr>\n",
       "    <tr>\n",
       "      <th>17381.0</th>\n",
       "      <td>8</td>\n",
       "      <td>26</td>\n",
       "      <td>4113.84</td>\n",
       "      <td>27.0</td>\n",
       "    </tr>\n",
       "    <tr>\n",
       "      <th>18087.0</th>\n",
       "      <td>98</td>\n",
       "      <td>2</td>\n",
       "      <td>4055.72</td>\n",
       "      <td>28.0</td>\n",
       "    </tr>\n",
       "    <tr>\n",
       "      <th>12971.0</th>\n",
       "      <td>3</td>\n",
       "      <td>83</td>\n",
       "      <td>3891.76</td>\n",
       "      <td>29.0</td>\n",
       "    </tr>\n",
       "    <tr>\n",
       "      <th>15195.0</th>\n",
       "      <td>2</td>\n",
       "      <td>1</td>\n",
       "      <td>3861.00</td>\n",
       "      <td>30.0</td>\n",
       "    </tr>\n",
       "    <tr>\n",
       "      <th>...</th>\n",
       "      <td>...</td>\n",
       "      <td>...</td>\n",
       "      <td>...</td>\n",
       "      <td>...</td>\n",
       "    </tr>\n",
       "    <tr>\n",
       "      <th>12847.0</th>\n",
       "      <td>22</td>\n",
       "      <td>1</td>\n",
       "      <td>1.17</td>\n",
       "      <td>3834.5</td>\n",
       "    </tr>\n",
       "    <tr>\n",
       "      <th>15919.0</th>\n",
       "      <td>19</td>\n",
       "      <td>1</td>\n",
       "      <td>1.17</td>\n",
       "      <td>3834.5</td>\n",
       "    </tr>\n",
       "    <tr>\n",
       "      <th>17879.0</th>\n",
       "      <td>173</td>\n",
       "      <td>1</td>\n",
       "      <td>1.16</td>\n",
       "      <td>3836.0</td>\n",
       "    </tr>\n",
       "    <tr>\n",
       "      <th>17263.0</th>\n",
       "      <td>208</td>\n",
       "      <td>1</td>\n",
       "      <td>0.95</td>\n",
       "      <td>3838.5</td>\n",
       "    </tr>\n",
       "    <tr>\n",
       "      <th>16697.0</th>\n",
       "      <td>241</td>\n",
       "      <td>1</td>\n",
       "      <td>0.95</td>\n",
       "      <td>3838.5</td>\n",
       "    </tr>\n",
       "    <tr>\n",
       "      <th>14518.0</th>\n",
       "      <td>64</td>\n",
       "      <td>1</td>\n",
       "      <td>0.95</td>\n",
       "      <td>3838.5</td>\n",
       "    </tr>\n",
       "    <tr>\n",
       "      <th>14413.0</th>\n",
       "      <td>362</td>\n",
       "      <td>1</td>\n",
       "      <td>0.95</td>\n",
       "      <td>3838.5</td>\n",
       "    </tr>\n",
       "    <tr>\n",
       "      <th>15019.0</th>\n",
       "      <td>266</td>\n",
       "      <td>1</td>\n",
       "      <td>0.85</td>\n",
       "      <td>3845.5</td>\n",
       "    </tr>\n",
       "    <tr>\n",
       "      <th>15721.0</th>\n",
       "      <td>11</td>\n",
       "      <td>1</td>\n",
       "      <td>0.85</td>\n",
       "      <td>3845.5</td>\n",
       "    </tr>\n",
       "    <tr>\n",
       "      <th>16065.0</th>\n",
       "      <td>365</td>\n",
       "      <td>1</td>\n",
       "      <td>0.85</td>\n",
       "      <td>3845.5</td>\n",
       "    </tr>\n",
       "    <tr>\n",
       "      <th>13176.0</th>\n",
       "      <td>46</td>\n",
       "      <td>1</td>\n",
       "      <td>0.85</td>\n",
       "      <td>3845.5</td>\n",
       "    </tr>\n",
       "    <tr>\n",
       "      <th>17433.0</th>\n",
       "      <td>88</td>\n",
       "      <td>1</td>\n",
       "      <td>0.85</td>\n",
       "      <td>3845.5</td>\n",
       "    </tr>\n",
       "    <tr>\n",
       "      <th>16084.0</th>\n",
       "      <td>299</td>\n",
       "      <td>1</td>\n",
       "      <td>0.85</td>\n",
       "      <td>3845.5</td>\n",
       "    </tr>\n",
       "    <tr>\n",
       "      <th>14661.0</th>\n",
       "      <td>26</td>\n",
       "      <td>1</td>\n",
       "      <td>0.85</td>\n",
       "      <td>3845.5</td>\n",
       "    </tr>\n",
       "    <tr>\n",
       "      <th>17619.0</th>\n",
       "      <td>312</td>\n",
       "      <td>1</td>\n",
       "      <td>0.85</td>\n",
       "      <td>3845.5</td>\n",
       "    </tr>\n",
       "    <tr>\n",
       "      <th>14536.0</th>\n",
       "      <td>259</td>\n",
       "      <td>1</td>\n",
       "      <td>0.85</td>\n",
       "      <td>3845.5</td>\n",
       "    </tr>\n",
       "    <tr>\n",
       "      <th>14594.0</th>\n",
       "      <td>7</td>\n",
       "      <td>1</td>\n",
       "      <td>0.85</td>\n",
       "      <td>3845.5</td>\n",
       "    </tr>\n",
       "    <tr>\n",
       "      <th>17274.0</th>\n",
       "      <td>35</td>\n",
       "      <td>1</td>\n",
       "      <td>0.83</td>\n",
       "      <td>3851.0</td>\n",
       "    </tr>\n",
       "    <tr>\n",
       "      <th>16753.0</th>\n",
       "      <td>58</td>\n",
       "      <td>1</td>\n",
       "      <td>0.75</td>\n",
       "      <td>3852.0</td>\n",
       "    </tr>\n",
       "    <tr>\n",
       "      <th>14801.0</th>\n",
       "      <td>61</td>\n",
       "      <td>1</td>\n",
       "      <td>0.72</td>\n",
       "      <td>3853.5</td>\n",
       "    </tr>\n",
       "    <tr>\n",
       "      <th>15280.0</th>\n",
       "      <td>172</td>\n",
       "      <td>1</td>\n",
       "      <td>0.72</td>\n",
       "      <td>3853.5</td>\n",
       "    </tr>\n",
       "    <tr>\n",
       "      <th>13428.0</th>\n",
       "      <td>10</td>\n",
       "      <td>1</td>\n",
       "      <td>0.65</td>\n",
       "      <td>3856.0</td>\n",
       "    </tr>\n",
       "    <tr>\n",
       "      <th>16340.0</th>\n",
       "      <td>107</td>\n",
       "      <td>1</td>\n",
       "      <td>0.65</td>\n",
       "      <td>3856.0</td>\n",
       "    </tr>\n",
       "    <tr>\n",
       "      <th>17201.0</th>\n",
       "      <td>53</td>\n",
       "      <td>1</td>\n",
       "      <td>0.65</td>\n",
       "      <td>3856.0</td>\n",
       "    </tr>\n",
       "    <tr>\n",
       "      <th>14041.0</th>\n",
       "      <td>266</td>\n",
       "      <td>1</td>\n",
       "      <td>0.58</td>\n",
       "      <td>3858.0</td>\n",
       "    </tr>\n",
       "    <tr>\n",
       "      <th>15503.0</th>\n",
       "      <td>362</td>\n",
       "      <td>1</td>\n",
       "      <td>0.42</td>\n",
       "      <td>3859.5</td>\n",
       "    </tr>\n",
       "    <tr>\n",
       "      <th>15645.0</th>\n",
       "      <td>18</td>\n",
       "      <td>1</td>\n",
       "      <td>0.42</td>\n",
       "      <td>3859.5</td>\n",
       "    </tr>\n",
       "    <tr>\n",
       "      <th>17914.0</th>\n",
       "      <td>3</td>\n",
       "      <td>1</td>\n",
       "      <td>0.39</td>\n",
       "      <td>3861.5</td>\n",
       "    </tr>\n",
       "    <tr>\n",
       "      <th>13271.0</th>\n",
       "      <td>37</td>\n",
       "      <td>1</td>\n",
       "      <td>0.39</td>\n",
       "      <td>3861.5</td>\n",
       "    </tr>\n",
       "    <tr>\n",
       "      <th>13256.0</th>\n",
       "      <td>14</td>\n",
       "      <td>1</td>\n",
       "      <td>0.00</td>\n",
       "      <td>3863.0</td>\n",
       "    </tr>\n",
       "  </tbody>\n",
       "</table>\n",
       "<p>3863 rows × 4 columns</p>\n",
       "</div>"
      ],
      "text/plain": [
       "            Recency  Frequency   Monetary    Rank\n",
       "CustomerID                                       \n",
       "16446.0           0          2  168471.25     1.0\n",
       "12346.0         325          1   77183.60     2.0\n",
       "15098.0         182          3   39916.50     3.0\n",
       "18102.0           0         57   39646.45     4.0\n",
       "17949.0           1         44   28685.69     5.0\n",
       "17450.0           8         44   25953.51     6.0\n",
       "16029.0          38         60   23413.88     7.0\n",
       "16013.0           3         45   17163.28     8.0\n",
       "16333.0           7         22   14418.96     9.0\n",
       "15749.0         235          3   12868.50    10.0\n",
       "15769.0           7         25   11660.84    11.0\n",
       "12901.0           8         28    9230.45    12.0\n",
       "13798.0           1         56    7786.26    13.0\n",
       "16684.0           4         28    7700.08    14.0\n",
       "17857.0           4         23    7655.18    15.0\n",
       "13694.0           3         49    7307.06    16.0\n",
       "14607.0          15         14    5754.18    17.0\n",
       "15061.0           3         41    5475.00    18.0\n",
       "16000.0           2          3    5238.90    19.0\n",
       "17389.0           0         34    4981.64    20.0\n",
       "13089.0           2         94    4823.41    21.0\n",
       "16422.0          17         50    4764.42    22.0\n",
       "15311.0           0         88    4609.23    23.0\n",
       "16532.0          17          3    4516.80    24.0\n",
       "13408.0           1         60    4468.22    25.0\n",
       "12931.0          21         15    4188.98    26.0\n",
       "17381.0           8         26    4113.84    27.0\n",
       "18087.0          98          2    4055.72    28.0\n",
       "12971.0           3         83    3891.76    29.0\n",
       "15195.0           2          1    3861.00    30.0\n",
       "...             ...        ...        ...     ...\n",
       "12847.0          22          1       1.17  3834.5\n",
       "15919.0          19          1       1.17  3834.5\n",
       "17879.0         173          1       1.16  3836.0\n",
       "17263.0         208          1       0.95  3838.5\n",
       "16697.0         241          1       0.95  3838.5\n",
       "14518.0          64          1       0.95  3838.5\n",
       "14413.0         362          1       0.95  3838.5\n",
       "15019.0         266          1       0.85  3845.5\n",
       "15721.0          11          1       0.85  3845.5\n",
       "16065.0         365          1       0.85  3845.5\n",
       "13176.0          46          1       0.85  3845.5\n",
       "17433.0          88          1       0.85  3845.5\n",
       "16084.0         299          1       0.85  3845.5\n",
       "14661.0          26          1       0.85  3845.5\n",
       "17619.0         312          1       0.85  3845.5\n",
       "14536.0         259          1       0.85  3845.5\n",
       "14594.0           7          1       0.85  3845.5\n",
       "17274.0          35          1       0.83  3851.0\n",
       "16753.0          58          1       0.75  3852.0\n",
       "14801.0          61          1       0.72  3853.5\n",
       "15280.0         172          1       0.72  3853.5\n",
       "13428.0          10          1       0.65  3856.0\n",
       "16340.0         107          1       0.65  3856.0\n",
       "17201.0          53          1       0.65  3856.0\n",
       "14041.0         266          1       0.58  3858.0\n",
       "15503.0         362          1       0.42  3859.5\n",
       "15645.0          18          1       0.42  3859.5\n",
       "17914.0           3          1       0.39  3861.5\n",
       "13271.0          37          1       0.39  3861.5\n",
       "13256.0          14          1       0.00  3863.0\n",
       "\n",
       "[3863 rows x 4 columns]"
      ]
     },
     "execution_count": 36,
     "metadata": {},
     "output_type": "execute_result"
    }
   ],
   "source": [
    "customers_rank.sort_values('Rank',ascending=True)"
   ]
  },
  {
   "cell_type": "code",
   "execution_count": 38,
   "metadata": {},
   "outputs": [
    {
     "data": {
      "text/plain": [
       "772.6"
      ]
     },
     "execution_count": 38,
     "metadata": {},
     "output_type": "execute_result"
    }
   ],
   "source": [
    "#Fetching top 20 percent of the customers\n",
    "top_20_customers = 3863 *20 /100\n",
    "top_20_customers"
   ]
  },
  {
   "cell_type": "code",
   "execution_count": 37,
   "metadata": {},
   "outputs": [
    {
     "data": {
      "text/plain": [
       "976683.3499999999"
      ]
     },
     "execution_count": 37,
     "metadata": {},
     "output_type": "execute_result"
    }
   ],
   "source": [
    "# Revenue generated by the customer with rank <= top 20 of the customer population\n",
    "revenueByTop20 = customers_rank[customers_rank['Rank'] <= 772]['Monetary'].sum()\n",
    "revenueByTop20"
   ]
  },
  {
   "cell_type": "markdown",
   "metadata": {},
   "source": [
    "In our case 80 % of the revenue is generated by less than 20 % of the customer population."
   ]
  },
  {
   "cell_type": "markdown",
   "metadata": {},
   "source": [
    "**RFM Quartiles**"
   ]
  },
  {
   "cell_type": "markdown",
   "metadata": {},
   "source": [
    "Customer segmentation using RFM score involves using quartiles. We assign a score from 1 to 4 to Recency, Frequency and Monetary. Four is the best/highest value that can assigned to a customer. One is the lowest/worst value thta can be assigned. A final RFM score is calculated simply by combining individual RFM score numbers. With more granularity, it becomes difficult as we have to deal more combinations of the RFM score. (Quintile -5 would lead to 555 possible combinations, which becomes a challenging task.)"
   ]
  },
  {
   "cell_type": "code",
   "execution_count": 40,
   "metadata": {},
   "outputs": [
    {
     "data": {
      "text/html": [
       "<div>\n",
       "<style scoped>\n",
       "    .dataframe tbody tr th:only-of-type {\n",
       "        vertical-align: middle;\n",
       "    }\n",
       "\n",
       "    .dataframe tbody tr th {\n",
       "        vertical-align: top;\n",
       "    }\n",
       "\n",
       "    .dataframe thead th {\n",
       "        text-align: right;\n",
       "    }\n",
       "</style>\n",
       "<table border=\"1\" class=\"dataframe\">\n",
       "  <thead>\n",
       "    <tr style=\"text-align: right;\">\n",
       "      <th></th>\n",
       "      <th>Recency</th>\n",
       "      <th>Frequency</th>\n",
       "      <th>Monetary</th>\n",
       "      <th>Rank</th>\n",
       "    </tr>\n",
       "  </thead>\n",
       "  <tbody>\n",
       "    <tr>\n",
       "      <th>0.25</th>\n",
       "      <td>17.0</td>\n",
       "      <td>1.0</td>\n",
       "      <td>17.4</td>\n",
       "      <td>966.5</td>\n",
       "    </tr>\n",
       "    <tr>\n",
       "      <th>0.50</th>\n",
       "      <td>49.0</td>\n",
       "      <td>2.0</td>\n",
       "      <td>45.0</td>\n",
       "      <td>1930.5</td>\n",
       "    </tr>\n",
       "    <tr>\n",
       "      <th>0.75</th>\n",
       "      <td>134.0</td>\n",
       "      <td>5.0</td>\n",
       "      <td>121.6</td>\n",
       "      <td>2898.0</td>\n",
       "    </tr>\n",
       "  </tbody>\n",
       "</table>\n",
       "</div>"
      ],
      "text/plain": [
       "      Recency  Frequency  Monetary    Rank\n",
       "0.25     17.0        1.0      17.4   966.5\n",
       "0.50     49.0        2.0      45.0  1930.5\n",
       "0.75    134.0        5.0     121.6  2898.0"
      ]
     },
     "execution_count": 40,
     "metadata": {},
     "output_type": "execute_result"
    }
   ],
   "source": [
    "quantiles = rfm_df.quantile(q=[0.25,0.5,0.75])\n",
    "quantiles"
   ]
  },
  {
   "cell_type": "code",
   "execution_count": 43,
   "metadata": {},
   "outputs": [
    {
     "data": {
      "text/plain": [
       "{'Recency': {0.25: 17.0, 0.5: 49.0, 0.75: 134.0},\n",
       " 'Frequency': {0.25: 1.0, 0.5: 2.0, 0.75: 5.0},\n",
       " 'Monetary': {0.25: 17.4, 0.5: 45.0, 0.75: 121.6},\n",
       " 'Rank': {0.25: 966.5, 0.5: 1930.5, 0.75: 2898.0}}"
      ]
     },
     "execution_count": 43,
     "metadata": {},
     "output_type": "execute_result"
    }
   ],
   "source": [
    "quantiles.to_dict()"
   ]
  },
  {
   "cell_type": "raw",
   "metadata": {},
   "source": [
    "We are using two different segmentations to generate Quartiles as High Recency is not good where as high monetary and frequency is a good aspect for the retailer w.r.t revenue."
   ]
  },
  {
   "cell_type": "code",
   "execution_count": 41,
   "metadata": {},
   "outputs": [],
   "source": [
    "# Arguments (x = value, p = recency, monetary_value, frequency, d = quartiles dict)\n",
    "def RScore(x,p,d):\n",
    "    if x <= d[p][0.25]:\n",
    "        return 4\n",
    "    elif x <= d[p][0.50]:\n",
    "        return 3\n",
    "    elif x <= d[p][0.75]: \n",
    "        return 2\n",
    "    else:\n",
    "        return 1\n",
    "# Arguments (x = value, p = recency, monetary_value, frequency, k = quartiles dict)\n",
    "def FMScore(x,p,d):\n",
    "    if x <= d[p][0.25]:\n",
    "        return 1\n",
    "    elif x <= d[p][0.50]:\n",
    "        return 2\n",
    "    elif x <= d[p][0.75]: \n",
    "        return 3\n",
    "    else:\n",
    "        return 4\n",
    "#create rfm segmentation table\n",
    "rfm_segmentation = rfm_df\n",
    "rfm_segmentation['R_Quartile'] = rfm_segmentation['Recency'].apply(RScore, args=('Recency',quantiles,))\n",
    "rfm_segmentation['F_Quartile'] = rfm_segmentation['Frequency'].apply(FMScore, args=('Frequency',quantiles,))\n",
    "rfm_segmentation['M_Quartile'] = rfm_segmentation['Monetary'].apply(FMScore, args=('Monetary',quantiles,))"
   ]
  },
  {
   "cell_type": "code",
   "execution_count": 42,
   "metadata": {},
   "outputs": [
    {
     "data": {
      "text/html": [
       "<div>\n",
       "<style scoped>\n",
       "    .dataframe tbody tr th:only-of-type {\n",
       "        vertical-align: middle;\n",
       "    }\n",
       "\n",
       "    .dataframe tbody tr th {\n",
       "        vertical-align: top;\n",
       "    }\n",
       "\n",
       "    .dataframe thead th {\n",
       "        text-align: right;\n",
       "    }\n",
       "</style>\n",
       "<table border=\"1\" class=\"dataframe\">\n",
       "  <thead>\n",
       "    <tr style=\"text-align: right;\">\n",
       "      <th></th>\n",
       "      <th>Recency</th>\n",
       "      <th>Frequency</th>\n",
       "      <th>Monetary</th>\n",
       "      <th>Rank</th>\n",
       "      <th>R_Quartile</th>\n",
       "      <th>F_Quartile</th>\n",
       "      <th>M_Quartile</th>\n",
       "    </tr>\n",
       "    <tr>\n",
       "      <th>CustomerID</th>\n",
       "      <th></th>\n",
       "      <th></th>\n",
       "      <th></th>\n",
       "      <th></th>\n",
       "      <th></th>\n",
       "      <th></th>\n",
       "      <th></th>\n",
       "    </tr>\n",
       "  </thead>\n",
       "  <tbody>\n",
       "    <tr>\n",
       "      <th>12346.0</th>\n",
       "      <td>325</td>\n",
       "      <td>1</td>\n",
       "      <td>77183.60</td>\n",
       "      <td>2.0</td>\n",
       "      <td>1</td>\n",
       "      <td>1</td>\n",
       "      <td>4</td>\n",
       "    </tr>\n",
       "    <tr>\n",
       "      <th>12747.0</th>\n",
       "      <td>2</td>\n",
       "      <td>10</td>\n",
       "      <td>658.89</td>\n",
       "      <td>183.0</td>\n",
       "      <td>4</td>\n",
       "      <td>4</td>\n",
       "      <td>4</td>\n",
       "    </tr>\n",
       "    <tr>\n",
       "      <th>12748.0</th>\n",
       "      <td>0</td>\n",
       "      <td>196</td>\n",
       "      <td>3739.23</td>\n",
       "      <td>34.0</td>\n",
       "      <td>4</td>\n",
       "      <td>4</td>\n",
       "      <td>4</td>\n",
       "    </tr>\n",
       "    <tr>\n",
       "      <th>12749.0</th>\n",
       "      <td>3</td>\n",
       "      <td>5</td>\n",
       "      <td>98.35</td>\n",
       "      <td>1140.0</td>\n",
       "      <td>4</td>\n",
       "      <td>3</td>\n",
       "      <td>3</td>\n",
       "    </tr>\n",
       "    <tr>\n",
       "      <th>12820.0</th>\n",
       "      <td>3</td>\n",
       "      <td>4</td>\n",
       "      <td>58.20</td>\n",
       "      <td>1665.5</td>\n",
       "      <td>4</td>\n",
       "      <td>3</td>\n",
       "      <td>3</td>\n",
       "    </tr>\n",
       "  </tbody>\n",
       "</table>\n",
       "</div>"
      ],
      "text/plain": [
       "            Recency  Frequency  Monetary    Rank  R_Quartile  F_Quartile  \\\n",
       "CustomerID                                                                 \n",
       "12346.0         325          1  77183.60     2.0           1           1   \n",
       "12747.0           2         10    658.89   183.0           4           4   \n",
       "12748.0           0        196   3739.23    34.0           4           4   \n",
       "12749.0           3          5     98.35  1140.0           4           3   \n",
       "12820.0           3          4     58.20  1665.5           4           3   \n",
       "\n",
       "            M_Quartile  \n",
       "CustomerID              \n",
       "12346.0              4  \n",
       "12747.0              4  \n",
       "12748.0              4  \n",
       "12749.0              3  \n",
       "12820.0              3  "
      ]
     },
     "execution_count": 42,
     "metadata": {},
     "output_type": "execute_result"
    }
   ],
   "source": [
    "rfm_segmentation.head()"
   ]
  },
  {
   "cell_type": "markdown",
   "metadata": {},
   "source": [
    "The above table show the quartiles for Recency, Frequency and Monetary."
   ]
  },
  {
   "cell_type": "code",
   "execution_count": 44,
   "metadata": {},
   "outputs": [
    {
     "data": {
      "text/html": [
       "<div>\n",
       "<style scoped>\n",
       "    .dataframe tbody tr th:only-of-type {\n",
       "        vertical-align: middle;\n",
       "    }\n",
       "\n",
       "    .dataframe tbody tr th {\n",
       "        vertical-align: top;\n",
       "    }\n",
       "\n",
       "    .dataframe thead th {\n",
       "        text-align: right;\n",
       "    }\n",
       "</style>\n",
       "<table border=\"1\" class=\"dataframe\">\n",
       "  <thead>\n",
       "    <tr style=\"text-align: right;\">\n",
       "      <th></th>\n",
       "      <th>Recency</th>\n",
       "      <th>Frequency</th>\n",
       "      <th>Monetary</th>\n",
       "      <th>Rank</th>\n",
       "      <th>R_Quartile</th>\n",
       "      <th>F_Quartile</th>\n",
       "      <th>M_Quartile</th>\n",
       "      <th>RFMScore</th>\n",
       "    </tr>\n",
       "    <tr>\n",
       "      <th>CustomerID</th>\n",
       "      <th></th>\n",
       "      <th></th>\n",
       "      <th></th>\n",
       "      <th></th>\n",
       "      <th></th>\n",
       "      <th></th>\n",
       "      <th></th>\n",
       "      <th></th>\n",
       "    </tr>\n",
       "  </thead>\n",
       "  <tbody>\n",
       "    <tr>\n",
       "      <th>12346.0</th>\n",
       "      <td>325</td>\n",
       "      <td>1</td>\n",
       "      <td>77183.60</td>\n",
       "      <td>2.0</td>\n",
       "      <td>1</td>\n",
       "      <td>1</td>\n",
       "      <td>4</td>\n",
       "      <td>114</td>\n",
       "    </tr>\n",
       "    <tr>\n",
       "      <th>12747.0</th>\n",
       "      <td>2</td>\n",
       "      <td>10</td>\n",
       "      <td>658.89</td>\n",
       "      <td>183.0</td>\n",
       "      <td>4</td>\n",
       "      <td>4</td>\n",
       "      <td>4</td>\n",
       "      <td>444</td>\n",
       "    </tr>\n",
       "    <tr>\n",
       "      <th>12748.0</th>\n",
       "      <td>0</td>\n",
       "      <td>196</td>\n",
       "      <td>3739.23</td>\n",
       "      <td>34.0</td>\n",
       "      <td>4</td>\n",
       "      <td>4</td>\n",
       "      <td>4</td>\n",
       "      <td>444</td>\n",
       "    </tr>\n",
       "    <tr>\n",
       "      <th>12749.0</th>\n",
       "      <td>3</td>\n",
       "      <td>5</td>\n",
       "      <td>98.35</td>\n",
       "      <td>1140.0</td>\n",
       "      <td>4</td>\n",
       "      <td>3</td>\n",
       "      <td>3</td>\n",
       "      <td>433</td>\n",
       "    </tr>\n",
       "    <tr>\n",
       "      <th>12820.0</th>\n",
       "      <td>3</td>\n",
       "      <td>4</td>\n",
       "      <td>58.20</td>\n",
       "      <td>1665.5</td>\n",
       "      <td>4</td>\n",
       "      <td>3</td>\n",
       "      <td>3</td>\n",
       "      <td>433</td>\n",
       "    </tr>\n",
       "  </tbody>\n",
       "</table>\n",
       "</div>"
      ],
      "text/plain": [
       "            Recency  Frequency  Monetary    Rank  R_Quartile  F_Quartile  \\\n",
       "CustomerID                                                                 \n",
       "12346.0         325          1  77183.60     2.0           1           1   \n",
       "12747.0           2         10    658.89   183.0           4           4   \n",
       "12748.0           0        196   3739.23    34.0           4           4   \n",
       "12749.0           3          5     98.35  1140.0           4           3   \n",
       "12820.0           3          4     58.20  1665.5           4           3   \n",
       "\n",
       "            M_Quartile RFMScore  \n",
       "CustomerID                       \n",
       "12346.0              4      114  \n",
       "12747.0              4      444  \n",
       "12748.0              4      444  \n",
       "12749.0              3      433  \n",
       "12820.0              3      433  "
      ]
     },
     "execution_count": 44,
     "metadata": {},
     "output_type": "execute_result"
    }
   ],
   "source": [
    "rfm_segmentation['RFMScore'] = rfm_segmentation.R_Quartile.map(str) \\\n",
    "                            + rfm_segmentation.F_Quartile.map(str) \\\n",
    "                            + rfm_segmentation.M_Quartile.map(str)\n",
    "rfm_segmentation.head()"
   ]
  },
  {
   "cell_type": "markdown",
   "metadata": {},
   "source": [
    "Combining the above generated qurtiles to get RFM score"
   ]
  },
  {
   "cell_type": "markdown",
   "metadata": {},
   "source": [
    "**List of the top -10 best customers we have**"
   ]
  },
  {
   "cell_type": "code",
   "execution_count": 45,
   "metadata": {},
   "outputs": [
    {
     "data": {
      "text/html": [
       "<div>\n",
       "<style scoped>\n",
       "    .dataframe tbody tr th:only-of-type {\n",
       "        vertical-align: middle;\n",
       "    }\n",
       "\n",
       "    .dataframe tbody tr th {\n",
       "        vertical-align: top;\n",
       "    }\n",
       "\n",
       "    .dataframe thead th {\n",
       "        text-align: right;\n",
       "    }\n",
       "</style>\n",
       "<table border=\"1\" class=\"dataframe\">\n",
       "  <thead>\n",
       "    <tr style=\"text-align: right;\">\n",
       "      <th></th>\n",
       "      <th>Recency</th>\n",
       "      <th>Frequency</th>\n",
       "      <th>Monetary</th>\n",
       "      <th>Rank</th>\n",
       "      <th>R_Quartile</th>\n",
       "      <th>F_Quartile</th>\n",
       "      <th>M_Quartile</th>\n",
       "      <th>RFMScore</th>\n",
       "    </tr>\n",
       "    <tr>\n",
       "      <th>CustomerID</th>\n",
       "      <th></th>\n",
       "      <th></th>\n",
       "      <th></th>\n",
       "      <th></th>\n",
       "      <th></th>\n",
       "      <th></th>\n",
       "      <th></th>\n",
       "      <th></th>\n",
       "    </tr>\n",
       "  </thead>\n",
       "  <tbody>\n",
       "    <tr>\n",
       "      <th>18102.0</th>\n",
       "      <td>0</td>\n",
       "      <td>57</td>\n",
       "      <td>39646.45</td>\n",
       "      <td>4.0</td>\n",
       "      <td>4</td>\n",
       "      <td>4</td>\n",
       "      <td>4</td>\n",
       "      <td>444</td>\n",
       "    </tr>\n",
       "    <tr>\n",
       "      <th>17949.0</th>\n",
       "      <td>1</td>\n",
       "      <td>44</td>\n",
       "      <td>28685.69</td>\n",
       "      <td>5.0</td>\n",
       "      <td>4</td>\n",
       "      <td>4</td>\n",
       "      <td>4</td>\n",
       "      <td>444</td>\n",
       "    </tr>\n",
       "    <tr>\n",
       "      <th>17450.0</th>\n",
       "      <td>8</td>\n",
       "      <td>44</td>\n",
       "      <td>25953.51</td>\n",
       "      <td>6.0</td>\n",
       "      <td>4</td>\n",
       "      <td>4</td>\n",
       "      <td>4</td>\n",
       "      <td>444</td>\n",
       "    </tr>\n",
       "    <tr>\n",
       "      <th>16013.0</th>\n",
       "      <td>3</td>\n",
       "      <td>45</td>\n",
       "      <td>17163.28</td>\n",
       "      <td>8.0</td>\n",
       "      <td>4</td>\n",
       "      <td>4</td>\n",
       "      <td>4</td>\n",
       "      <td>444</td>\n",
       "    </tr>\n",
       "    <tr>\n",
       "      <th>16333.0</th>\n",
       "      <td>7</td>\n",
       "      <td>22</td>\n",
       "      <td>14418.96</td>\n",
       "      <td>9.0</td>\n",
       "      <td>4</td>\n",
       "      <td>4</td>\n",
       "      <td>4</td>\n",
       "      <td>444</td>\n",
       "    </tr>\n",
       "    <tr>\n",
       "      <th>15769.0</th>\n",
       "      <td>7</td>\n",
       "      <td>25</td>\n",
       "      <td>11660.84</td>\n",
       "      <td>11.0</td>\n",
       "      <td>4</td>\n",
       "      <td>4</td>\n",
       "      <td>4</td>\n",
       "      <td>444</td>\n",
       "    </tr>\n",
       "    <tr>\n",
       "      <th>12901.0</th>\n",
       "      <td>8</td>\n",
       "      <td>28</td>\n",
       "      <td>9230.45</td>\n",
       "      <td>12.0</td>\n",
       "      <td>4</td>\n",
       "      <td>4</td>\n",
       "      <td>4</td>\n",
       "      <td>444</td>\n",
       "    </tr>\n",
       "    <tr>\n",
       "      <th>13798.0</th>\n",
       "      <td>1</td>\n",
       "      <td>56</td>\n",
       "      <td>7786.26</td>\n",
       "      <td>13.0</td>\n",
       "      <td>4</td>\n",
       "      <td>4</td>\n",
       "      <td>4</td>\n",
       "      <td>444</td>\n",
       "    </tr>\n",
       "    <tr>\n",
       "      <th>16684.0</th>\n",
       "      <td>4</td>\n",
       "      <td>28</td>\n",
       "      <td>7700.08</td>\n",
       "      <td>14.0</td>\n",
       "      <td>4</td>\n",
       "      <td>4</td>\n",
       "      <td>4</td>\n",
       "      <td>444</td>\n",
       "    </tr>\n",
       "    <tr>\n",
       "      <th>17857.0</th>\n",
       "      <td>4</td>\n",
       "      <td>23</td>\n",
       "      <td>7655.18</td>\n",
       "      <td>15.0</td>\n",
       "      <td>4</td>\n",
       "      <td>4</td>\n",
       "      <td>4</td>\n",
       "      <td>444</td>\n",
       "    </tr>\n",
       "  </tbody>\n",
       "</table>\n",
       "</div>"
      ],
      "text/plain": [
       "            Recency  Frequency  Monetary  Rank  R_Quartile  F_Quartile  \\\n",
       "CustomerID                                                               \n",
       "18102.0           0         57  39646.45   4.0           4           4   \n",
       "17949.0           1         44  28685.69   5.0           4           4   \n",
       "17450.0           8         44  25953.51   6.0           4           4   \n",
       "16013.0           3         45  17163.28   8.0           4           4   \n",
       "16333.0           7         22  14418.96   9.0           4           4   \n",
       "15769.0           7         25  11660.84  11.0           4           4   \n",
       "12901.0           8         28   9230.45  12.0           4           4   \n",
       "13798.0           1         56   7786.26  13.0           4           4   \n",
       "16684.0           4         28   7700.08  14.0           4           4   \n",
       "17857.0           4         23   7655.18  15.0           4           4   \n",
       "\n",
       "            M_Quartile RFMScore  \n",
       "CustomerID                       \n",
       "18102.0              4      444  \n",
       "17949.0              4      444  \n",
       "17450.0              4      444  \n",
       "16013.0              4      444  \n",
       "16333.0              4      444  \n",
       "15769.0              4      444  \n",
       "12901.0              4      444  \n",
       "13798.0              4      444  \n",
       "16684.0              4      444  \n",
       "17857.0              4      444  "
      ]
     },
     "execution_count": 45,
     "metadata": {},
     "output_type": "execute_result"
    }
   ],
   "source": [
    "rfm_segmentation[rfm_segmentation['RFMScore']=='444'].sort_values('Monetary', ascending=False).head(10)"
   ]
  },
  {
   "cell_type": "code",
   "execution_count": 47,
   "metadata": {},
   "outputs": [
    {
     "name": "stdout",
     "output_type": "stream",
     "text": [
      "Best Customers:  356\n",
      "Loyal Customers:  752\n",
      "Big Spenders:  966\n",
      "Almost Lost:  64\n",
      "Lost Customers:  9\n",
      "Lost Cheap Customers:  353\n"
     ]
    }
   ],
   "source": [
    "print(\"Best Customers: \",len(rfm_segmentation[rfm_segmentation['RFMScore']=='444']))\n",
    "print('Loyal Customers: ',len(rfm_segmentation[rfm_segmentation['F_Quartile']==4]))\n",
    "print(\"Big Spenders: \",len(rfm_segmentation[rfm_segmentation['M_Quartile']==4]))\n",
    "print('Almost Lost: ', len(rfm_segmentation[rfm_segmentation['RFMScore']=='244']))\n",
    "print('Lost Customers: ',len(rfm_segmentation[rfm_segmentation['RFMScore']=='144']))\n",
    "print('Lost Cheap Customers: ',len(rfm_segmentation[rfm_segmentation['RFMScore']=='111']))"
   ]
  },
  {
   "cell_type": "markdown",
   "metadata": {},
   "source": [
    "The above generated data can be used to come up with marketing stratergies like make use of best customers for referal. Identify the customers at risk and try to retail them by giving them additional offers apart form the ongoing seasonal offers. Advertise for products by identifying the potential buyers."
   ]
  },
  {
   "cell_type": "markdown",
   "metadata": {},
   "source": [
    "**Applying K-means clustering on RFM variables**"
   ]
  },
  {
   "cell_type": "markdown",
   "metadata": {},
   "source": []
  },
  {
   "cell_type": "code",
   "execution_count": 48,
   "metadata": {},
   "outputs": [
    {
     "data": {
      "text/html": [
       "<div>\n",
       "<style scoped>\n",
       "    .dataframe tbody tr th:only-of-type {\n",
       "        vertical-align: middle;\n",
       "    }\n",
       "\n",
       "    .dataframe tbody tr th {\n",
       "        vertical-align: top;\n",
       "    }\n",
       "\n",
       "    .dataframe thead th {\n",
       "        text-align: right;\n",
       "    }\n",
       "</style>\n",
       "<table border=\"1\" class=\"dataframe\">\n",
       "  <thead>\n",
       "    <tr style=\"text-align: right;\">\n",
       "      <th></th>\n",
       "      <th>Recency</th>\n",
       "      <th>Frequency</th>\n",
       "      <th>Monetary</th>\n",
       "      <th>Rank</th>\n",
       "    </tr>\n",
       "    <tr>\n",
       "      <th>CustomerID</th>\n",
       "      <th></th>\n",
       "      <th></th>\n",
       "      <th></th>\n",
       "      <th></th>\n",
       "    </tr>\n",
       "  </thead>\n",
       "  <tbody>\n",
       "    <tr>\n",
       "      <th>12346.0</th>\n",
       "      <td>325</td>\n",
       "      <td>1</td>\n",
       "      <td>77183.60</td>\n",
       "      <td>2.0</td>\n",
       "    </tr>\n",
       "    <tr>\n",
       "      <th>12747.0</th>\n",
       "      <td>2</td>\n",
       "      <td>10</td>\n",
       "      <td>658.89</td>\n",
       "      <td>183.0</td>\n",
       "    </tr>\n",
       "    <tr>\n",
       "      <th>12748.0</th>\n",
       "      <td>0</td>\n",
       "      <td>196</td>\n",
       "      <td>3739.23</td>\n",
       "      <td>34.0</td>\n",
       "    </tr>\n",
       "    <tr>\n",
       "      <th>12749.0</th>\n",
       "      <td>3</td>\n",
       "      <td>5</td>\n",
       "      <td>98.35</td>\n",
       "      <td>1140.0</td>\n",
       "    </tr>\n",
       "    <tr>\n",
       "      <th>12820.0</th>\n",
       "      <td>3</td>\n",
       "      <td>4</td>\n",
       "      <td>58.20</td>\n",
       "      <td>1665.5</td>\n",
       "    </tr>\n",
       "  </tbody>\n",
       "</table>\n",
       "</div>"
      ],
      "text/plain": [
       "            Recency  Frequency  Monetary    Rank\n",
       "CustomerID                                      \n",
       "12346.0         325          1  77183.60     2.0\n",
       "12747.0           2         10    658.89   183.0\n",
       "12748.0           0        196   3739.23    34.0\n",
       "12749.0           3          5     98.35  1140.0\n",
       "12820.0           3          4     58.20  1665.5"
      ]
     },
     "execution_count": 48,
     "metadata": {},
     "output_type": "execute_result"
    }
   ],
   "source": [
    "rfm_data = rfm_df.drop(['R_Quartile','F_Quartile','M_Quartile','RFMScore'],axis=1)\n",
    "rfm_data.head()"
   ]
  },
  {
   "cell_type": "code",
   "execution_count": 49,
   "metadata": {},
   "outputs": [
    {
     "data": {
      "text/html": [
       "<div>\n",
       "<style scoped>\n",
       "    .dataframe tbody tr th:only-of-type {\n",
       "        vertical-align: middle;\n",
       "    }\n",
       "\n",
       "    .dataframe tbody tr th {\n",
       "        vertical-align: top;\n",
       "    }\n",
       "\n",
       "    .dataframe thead th {\n",
       "        text-align: right;\n",
       "    }\n",
       "</style>\n",
       "<table border=\"1\" class=\"dataframe\">\n",
       "  <thead>\n",
       "    <tr style=\"text-align: right;\">\n",
       "      <th></th>\n",
       "      <th>Recency</th>\n",
       "      <th>Frequency</th>\n",
       "      <th>Monetary</th>\n",
       "      <th>Rank</th>\n",
       "    </tr>\n",
       "  </thead>\n",
       "  <tbody>\n",
       "    <tr>\n",
       "      <th>Recency</th>\n",
       "      <td>1.000000</td>\n",
       "      <td>-0.279236</td>\n",
       "      <td>-0.027727</td>\n",
       "      <td>0.323089</td>\n",
       "    </tr>\n",
       "    <tr>\n",
       "      <th>Frequency</th>\n",
       "      <td>-0.279236</td>\n",
       "      <td>1.000000</td>\n",
       "      <td>0.156431</td>\n",
       "      <td>-0.458850</td>\n",
       "    </tr>\n",
       "    <tr>\n",
       "      <th>Monetary</th>\n",
       "      <td>-0.027727</td>\n",
       "      <td>0.156431</td>\n",
       "      <td>1.000000</td>\n",
       "      <td>-0.130520</td>\n",
       "    </tr>\n",
       "    <tr>\n",
       "      <th>Rank</th>\n",
       "      <td>0.323089</td>\n",
       "      <td>-0.458850</td>\n",
       "      <td>-0.130520</td>\n",
       "      <td>1.000000</td>\n",
       "    </tr>\n",
       "  </tbody>\n",
       "</table>\n",
       "</div>"
      ],
      "text/plain": [
       "            Recency  Frequency  Monetary      Rank\n",
       "Recency    1.000000  -0.279236 -0.027727  0.323089\n",
       "Frequency -0.279236   1.000000  0.156431 -0.458850\n",
       "Monetary  -0.027727   0.156431  1.000000 -0.130520\n",
       "Rank       0.323089  -0.458850 -0.130520  1.000000"
      ]
     },
     "execution_count": 49,
     "metadata": {},
     "output_type": "execute_result"
    }
   ],
   "source": [
    "rfm_data.corr()"
   ]
  },
  {
   "cell_type": "code",
   "execution_count": 50,
   "metadata": {},
   "outputs": [
    {
     "data": {
      "text/plain": [
       "<matplotlib.axes._subplots.AxesSubplot at 0x1a20e8e400>"
      ]
     },
     "execution_count": 50,
     "metadata": {},
     "output_type": "execute_result"
    },
    {
     "data": {
      "image/png": "[encoded data removed]",
      "text/plain": [
       "<Figure size 432x288 with 2 Axes>"
      ]
     },
     "metadata": {},
     "output_type": "display_data"
    }
   ],
   "source": [
    "sns.heatmap(rfm_data.corr())"
   ]
  },
  {
   "cell_type": "markdown",
   "metadata": {},
   "source": [
    "We can notice that corelation between Monetary and Frequency is a slightly higher bit it is not too strong. Also for recency its too low and is more towards negative value."
   ]
  },
  {
   "cell_type": "code",
   "execution_count": 51,
   "metadata": {},
   "outputs": [
    {
     "data": {
      "image/png": "[encoded data removed]",
      "text/plain": [
       "<Figure size 792x360 with 16 Axes>"
      ]
     },
     "metadata": {},
     "output_type": "display_data"
    }
   ],
   "source": [
    "# Produce a scatter matrix for each pair of features in the data\n",
    "scatter_matrix(rfm_data, alpha = 0.3, figsize = (11,5), diagonal = 'kde');"
   ]
  },
  {
   "cell_type": "markdown",
   "metadata": {},
   "source": [
    "We can notice that the distribution is skewed for all three cases. We can normalize the data to overcome this."
   ]
  },
  {
   "cell_type": "markdown",
   "metadata": {},
   "source": [
    "**Data Normalization**"
   ]
  },
  {
   "cell_type": "code",
   "execution_count": 53,
   "metadata": {},
   "outputs": [],
   "source": [
    "#log transformation\n",
    "rfm_r_log = np.log(rfm_data['Recency']+0.1) #can't take log(0) and so add a small number\n",
    "rfm_f_log = np.log(rfm_data['Frequency'])\n",
    "rfm_m_log = np.log(rfm_data['Monetary']+0.1)"
   ]
  },
  {
   "cell_type": "code",
   "execution_count": 54,
   "metadata": {},
   "outputs": [],
   "source": [
    "log_data = pd.DataFrame({'Monetary': rfm_m_log,'Recency': rfm_r_log,'Frequency': rfm_f_log})\n"
   ]
  },
  {
   "cell_type": "code",
   "execution_count": 55,
   "metadata": {},
   "outputs": [
    {
     "data": {
      "text/html": [
       "<div>\n",
       "<style scoped>\n",
       "    .dataframe tbody tr th:only-of-type {\n",
       "        vertical-align: middle;\n",
       "    }\n",
       "\n",
       "    .dataframe tbody tr th {\n",
       "        vertical-align: top;\n",
       "    }\n",
       "\n",
       "    .dataframe thead th {\n",
       "        text-align: right;\n",
       "    }\n",
       "</style>\n",
       "<table border=\"1\" class=\"dataframe\">\n",
       "  <thead>\n",
       "    <tr style=\"text-align: right;\">\n",
       "      <th></th>\n",
       "      <th>Monetary</th>\n",
       "      <th>Recency</th>\n",
       "      <th>Frequency</th>\n",
       "    </tr>\n",
       "    <tr>\n",
       "      <th>CustomerID</th>\n",
       "      <th></th>\n",
       "      <th></th>\n",
       "      <th></th>\n",
       "    </tr>\n",
       "  </thead>\n",
       "  <tbody>\n",
       "    <tr>\n",
       "      <th>12346.0</th>\n",
       "      <td>11.253944</td>\n",
       "      <td>5.784133</td>\n",
       "      <td>0.000000</td>\n",
       "    </tr>\n",
       "    <tr>\n",
       "      <th>12747.0</th>\n",
       "      <td>6.490708</td>\n",
       "      <td>0.741937</td>\n",
       "      <td>2.302585</td>\n",
       "    </tr>\n",
       "    <tr>\n",
       "      <th>12748.0</th>\n",
       "      <td>8.226662</td>\n",
       "      <td>-2.302585</td>\n",
       "      <td>5.278115</td>\n",
       "    </tr>\n",
       "    <tr>\n",
       "      <th>12749.0</th>\n",
       "      <td>4.589549</td>\n",
       "      <td>1.131402</td>\n",
       "      <td>1.609438</td>\n",
       "    </tr>\n",
       "    <tr>\n",
       "      <th>12820.0</th>\n",
       "      <td>4.065602</td>\n",
       "      <td>1.131402</td>\n",
       "      <td>1.386294</td>\n",
       "    </tr>\n",
       "  </tbody>\n",
       "</table>\n",
       "</div>"
      ],
      "text/plain": [
       "             Monetary   Recency  Frequency\n",
       "CustomerID                                \n",
       "12346.0     11.253944  5.784133   0.000000\n",
       "12747.0      6.490708  0.741937   2.302585\n",
       "12748.0      8.226662 -2.302585   5.278115\n",
       "12749.0      4.589549  1.131402   1.609438\n",
       "12820.0      4.065602  1.131402   1.386294"
      ]
     },
     "execution_count": 55,
     "metadata": {},
     "output_type": "execute_result"
    }
   ],
   "source": [
    "log_data.head()"
   ]
  },
  {
   "cell_type": "code",
   "execution_count": 56,
   "metadata": {},
   "outputs": [
    {
     "data": {
      "image/png": "[encoded data removed]",
      "text/plain": [
       "<Figure size 792x360 with 9 Axes>"
      ]
     },
     "metadata": {},
     "output_type": "display_data"
    }
   ],
   "source": [
    "# Produce a scatter matrix for each pair of features in the data\n",
    "scatter_matrix(log_data, alpha = 0.2, figsize = (11,5), diagonal = 'kde');"
   ]
  },
  {
   "cell_type": "markdown",
   "metadata": {},
   "source": [
    "By this we can notice that the distribution is more normalized observing the curve. But for frequency and Recency it is not showing much improvement."
   ]
  },
  {
   "cell_type": "code",
   "execution_count": 57,
   "metadata": {},
   "outputs": [
    {
     "data": {
      "text/plain": [
       "<matplotlib.axes._subplots.AxesSubplot at 0x1a2469e390>"
      ]
     },
     "execution_count": 57,
     "metadata": {},
     "output_type": "execute_result"
    },
    {
     "data": {
      "image/png": "[encoded data removed]",
      "text/plain": [
       "<Figure size 432x288 with 2 Axes>"
      ]
     },
     "metadata": {},
     "output_type": "display_data"
    }
   ],
   "source": [
    "sns.heatmap(rfm_data.corr())"
   ]
  },
  {
   "cell_type": "code",
   "execution_count": 58,
   "metadata": {
    "scrolled": true
   },
   "outputs": [
    {
     "data": {
      "text/plain": [
       "<matplotlib.axes._subplots.AxesSubplot at 0x1a204984e0>"
      ]
     },
     "execution_count": 58,
     "metadata": {},
     "output_type": "execute_result"
    },
    {
     "data": {
      "image/png": "[encoded data removed]",
      "text/plain": [
       "<Figure size 432x288 with 2 Axes>"
      ]
     },
     "metadata": {},
     "output_type": "display_data"
    }
   ],
   "source": [
    "sns.heatmap(log_data.corr())"
   ]
  },
  {
   "cell_type": "markdown",
   "metadata": {},
   "source": [
    "We can notice that Corelation between Monetary and Frequency  is strong in this case, but with recency it's still negtive"
   ]
  },
  {
   "cell_type": "code",
   "execution_count": 59,
   "metadata": {},
   "outputs": [
    {
     "data": {
      "text/html": [
       "<div>\n",
       "<style scoped>\n",
       "    .dataframe tbody tr th:only-of-type {\n",
       "        vertical-align: middle;\n",
       "    }\n",
       "\n",
       "    .dataframe tbody tr th {\n",
       "        vertical-align: top;\n",
       "    }\n",
       "\n",
       "    .dataframe thead th {\n",
       "        text-align: right;\n",
       "    }\n",
       "</style>\n",
       "<table border=\"1\" class=\"dataframe\">\n",
       "  <thead>\n",
       "    <tr style=\"text-align: right;\">\n",
       "      <th></th>\n",
       "      <th>Monetary</th>\n",
       "      <th>Recency</th>\n",
       "      <th>Frequency</th>\n",
       "    </tr>\n",
       "  </thead>\n",
       "  <tbody>\n",
       "    <tr>\n",
       "      <th>Monetary</th>\n",
       "      <td>1.000000</td>\n",
       "      <td>-0.364351</td>\n",
       "      <td>0.715609</td>\n",
       "    </tr>\n",
       "    <tr>\n",
       "      <th>Recency</th>\n",
       "      <td>-0.364351</td>\n",
       "      <td>1.000000</td>\n",
       "      <td>-0.569951</td>\n",
       "    </tr>\n",
       "    <tr>\n",
       "      <th>Frequency</th>\n",
       "      <td>0.715609</td>\n",
       "      <td>-0.569951</td>\n",
       "      <td>1.000000</td>\n",
       "    </tr>\n",
       "  </tbody>\n",
       "</table>\n",
       "</div>"
      ],
      "text/plain": [
       "           Monetary   Recency  Frequency\n",
       "Monetary   1.000000 -0.364351   0.715609\n",
       "Recency   -0.364351  1.000000  -0.569951\n",
       "Frequency  0.715609 -0.569951   1.000000"
      ]
     },
     "execution_count": 59,
     "metadata": {},
     "output_type": "execute_result"
    }
   ],
   "source": [
    "log_data.corr()"
   ]
  },
  {
   "cell_type": "markdown",
   "metadata": {},
   "source": [
    "**K-means Implementation**"
   ]
  },
  {
   "cell_type": "code",
   "execution_count": 63,
   "metadata": {},
   "outputs": [
    {
     "name": "stdout",
     "output_type": "stream",
     "text": [
      "For n_clusters = 2 The average silhouette_score is : 0.38930787566743014\n",
      "For n_clusters = 3 The average silhouette_score is : 0.3039511787747333\n",
      "For n_clusters = 4 The average silhouette_score is : 0.3103841035849781\n",
      "For n_clusters = 5 The average silhouette_score is : 0.2901550155654932\n",
      "For n_clusters = 6 The average silhouette_score is : 0.2953037983527741\n",
      "For n_clusters = 7 The average silhouette_score is : 0.29126695928086827\n",
      "For n_clusters = 8 The average silhouette_score is : 0.29148433354325587\n",
      "For n_clusters = 9 The average silhouette_score is : 0.29437434923899813\n"
     ]
    }
   ],
   "source": [
    "matrix = log_data.as_matrix()\n",
    "for n_clusters in range(2,10):\n",
    "    kmeans = KMeans(init='k-means++', n_clusters = n_clusters, n_init=100)\n",
    "    kmeans.fit(matrix)\n",
    "    clusters = kmeans.predict(matrix)\n",
    "    silhouette_avg = silhouette_score(matrix, clusters)\n",
    "    print(\"For n_clusters =\", n_clusters, \"The average silhouette_score is :\", silhouette_avg)"
   ]
  },
  {
   "cell_type": "code",
   "execution_count": 64,
   "metadata": {},
   "outputs": [
    {
     "name": "stdout",
     "output_type": "stream",
     "text": [
      "score de silhouette: 0.389\n"
     ]
    }
   ],
   "source": [
    "n_clusters = 2\n",
    "kmeans = KMeans(init='k-means++', n_clusters = n_clusters, n_init=30)\n",
    "kmeans.fit(matrix)\n",
    "clusters_customers = kmeans.predict(matrix)\n",
    "silhouette_avg = silhouette_score(matrix, clusters_customers)\n",
    "print('score de silhouette: {:<.3f}'.format(silhouette_avg))"
   ]
  },
  {
   "cell_type": "markdown",
   "metadata": {},
   "source": [
    "**Visualize Clusters**"
   ]
  },
  {
   "cell_type": "code",
   "execution_count": 65,
   "metadata": {
    "scrolled": true
   },
   "outputs": [
    {
     "data": {
      "image/png": "[encoded data removed]",
      "text/plain": [
       "<Figure size 432x288 with 1 Axes>"
      ]
     },
     "metadata": {},
     "output_type": "display_data"
    }
   ],
   "source": [
    "# visualising a scatter plot\n",
    "plt.scatter(matrix[:, 0], matrix[:, 1], c=clusters_customers, s=50, cmap='viridis')\n",
    "# centroids for the cluster\n",
    "centers = kmeans.cluster_centers_\n",
    "plt.scatter(centers[:, 0], centers[:, 1], c='black', s=200, alpha=0.5);"
   ]
  },
  {
   "cell_type": "code",
   "execution_count": 66,
   "metadata": {},
   "outputs": [
    {
     "data": {
      "text/html": [
       "<div>\n",
       "<style scoped>\n",
       "    .dataframe tbody tr th:only-of-type {\n",
       "        vertical-align: middle;\n",
       "    }\n",
       "\n",
       "    .dataframe tbody tr th {\n",
       "        vertical-align: top;\n",
       "    }\n",
       "\n",
       "    .dataframe thead th {\n",
       "        text-align: right;\n",
       "    }\n",
       "</style>\n",
       "<table border=\"1\" class=\"dataframe\">\n",
       "  <thead>\n",
       "    <tr style=\"text-align: right;\">\n",
       "      <th></th>\n",
       "      <th>0</th>\n",
       "      <th>1</th>\n",
       "    </tr>\n",
       "  </thead>\n",
       "  <tbody>\n",
       "    <tr>\n",
       "      <th>NumberCustomers</th>\n",
       "      <td>2337</td>\n",
       "      <td>1526</td>\n",
       "    </tr>\n",
       "  </tbody>\n",
       "</table>\n",
       "</div>"
      ],
      "text/plain": [
       "                    0     1\n",
       "NumberCustomers  2337  1526"
      ]
     },
     "execution_count": 66,
     "metadata": {},
     "output_type": "execute_result"
    }
   ],
   "source": [
    "# number of customers in each cluster\n",
    "pd.DataFrame(pd.Series(clusters_customers).value_counts(), columns = ['NumberCustomers']).T"
   ]
  },
  {
   "cell_type": "markdown",
   "metadata": {},
   "source": [
    "In this approach we are using Recency, Frequency and Monetary to form cluster of customers using k-means clustering algorithm. We can notice that there is no clear boundary of seperation between the clusters. This could because of the presence of teh outliers. The chances of data points  being  miscalssified  is high because of this reason. \n",
    "\n",
    "Drawbacks asociated with this clustering is that:\n",
    "1. The probablility of a data point being in two clusters is high.\n",
    "2. This can not be a guaranteed as a global solution.\n",
    "3. Does not work efficiently for models with limited feature sets.\n",
    "\n",
    "So we tries workign with Guassian Mixture Model, but the results aren't that great when compared to the kmeans clustering. Guassian Mixture model was used with the intension to explotit it's flexibility to make use of unconstrained covariances. GMM involves probabilistic cluster assignment."
   ]
  },
  {
   "cell_type": "markdown",
   "metadata": {},
   "source": [
    "** Gaussian Mixture Model Implementation**"
   ]
  },
  {
   "cell_type": "code",
   "execution_count": 67,
   "metadata": {},
   "outputs": [
    {
     "data": {
      "image/png": "[encoded data removed]",
      "text/plain": [
       "<Figure size 432x288 with 1 Axes>"
      ]
     },
     "metadata": {},
     "output_type": "display_data"
    }
   ],
   "source": [
    "gmm = GMM(n_components=2).fit(matrix)\n",
    "labels = gmm.predict(matrix)\n",
    "plt.scatter(matrix[:, 0], matrix[:, 1], c=labels, s=40, cmap='viridis');"
   ]
  },
  {
   "cell_type": "markdown",
   "metadata": {},
   "source": [
    "No improvement seen(No clear boundary of seperation between the clusters)."
   ]
  }
 ],
 "metadata": {
  "kernelspec": {
   "display_name": "Python 3",
   "language": "python",
   "name": "python3"
  },
  "language_info": {
   "codemirror_mode": {
    "name": "ipython",
    "version": 3
   },
   "file_extension": ".py",
   "mimetype": "text/x-python",
   "name": "python",
   "nbconvert_exporter": "python",
   "pygments_lexer": "ipython3",
   "version": "3.6.5"
  }
 },
 "nbformat": 4,
 "nbformat_minor": 2
}
